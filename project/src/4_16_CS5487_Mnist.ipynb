{
  "cells": [
    {
      "cell_type": "code",
      "execution_count": null,
      "metadata": {
        "colab": {
          "base_uri": "https://localhost:8080/"
        },
        "id": "NCn7Qz_sxGVp",
        "outputId": "5fbb6b7d-6f1c-44cd-a858-83f744c0ac24"
      },
      "outputs": [
        {
          "output_type": "stream",
          "name": "stdout",
          "text": [
            "Collecting vit_pytorch\n",
            "  Downloading vit_pytorch-0.33.2-py3-none-any.whl (63 kB)\n",
            "\u001b[?25l\r\u001b[K     |█████▏                          | 10 kB 18.3 MB/s eta 0:00:01\r\u001b[K     |██████████▎                     | 20 kB 9.8 MB/s eta 0:00:01\r\u001b[K     |███████████████▍                | 30 kB 8.4 MB/s eta 0:00:01\r\u001b[K     |████████████████████▌           | 40 kB 7.8 MB/s eta 0:00:01\r\u001b[K     |█████████████████████████▋      | 51 kB 5.4 MB/s eta 0:00:01\r\u001b[K     |██████████████████████████████▊ | 61 kB 5.6 MB/s eta 0:00:01\r\u001b[K     |████████████████████████████████| 63 kB 1.7 MB/s \n",
            "\u001b[?25hRequirement already satisfied: torchvision in /usr/local/lib/python3.7/dist-packages (from vit_pytorch) (0.11.1+cu111)\n",
            "Collecting einops>=0.4.1\n",
            "  Downloading einops-0.4.1-py3-none-any.whl (28 kB)\n",
            "Requirement already satisfied: torch>=1.10 in /usr/local/lib/python3.7/dist-packages (from vit_pytorch) (1.10.0+cu111)\n",
            "Requirement already satisfied: typing-extensions in /usr/local/lib/python3.7/dist-packages (from torch>=1.10->vit_pytorch) (4.1.1)\n",
            "Requirement already satisfied: pillow!=8.3.0,>=5.3.0 in /usr/local/lib/python3.7/dist-packages (from torchvision->vit_pytorch) (7.1.2)\n",
            "Requirement already satisfied: numpy in /usr/local/lib/python3.7/dist-packages (from torchvision->vit_pytorch) (1.21.6)\n",
            "Installing collected packages: einops, vit-pytorch\n",
            "Successfully installed einops-0.4.1 vit-pytorch-0.33.2\n",
            "Collecting tensorflow_addons\n",
            "  Downloading tensorflow_addons-0.16.1-cp37-cp37m-manylinux_2_12_x86_64.manylinux2010_x86_64.whl (1.1 MB)\n",
            "\u001b[K     |████████████████████████████████| 1.1 MB 6.8 MB/s \n",
            "\u001b[?25hRequirement already satisfied: typeguard>=2.7 in /usr/local/lib/python3.7/dist-packages (from tensorflow_addons) (2.7.1)\n",
            "Installing collected packages: tensorflow-addons\n",
            "Successfully installed tensorflow-addons-0.16.1\n"
          ]
        }
      ],
      "source": [
        "!pip install vit_pytorch\n",
        "!pip install tensorflow_addons"
      ]
    },
    {
      "cell_type": "markdown",
      "metadata": {
        "id": "fRiGnvJ8guQO"
      },
      "source": [
        "## Import package"
      ]
    },
    {
      "cell_type": "code",
      "execution_count": null,
      "metadata": {
        "id": "TIa927oNguBI"
      },
      "outputs": [],
      "source": [
        "import numpy as np \n",
        "import pandas as pd\n",
        "import math \n",
        "from tqdm.notebook import tqdm, trange\n",
        "import time\n",
        "import os\n",
        "import scipy\n",
        "import matplotlib.pyplot as plt\n",
        "import torch\n",
        "from keras.models import load_model\n",
        "from vit_pytorch import ViT\n",
        "import tensorflow as tf\n",
        "from random import shuffle\n",
        "from tensorflow import keras\n",
        "from sklearn.ensemble import VotingClassifier\n",
        "from sklearn.model_selection import train_test_split\n",
        "from sklearn.svm import SVC, LinearSVC\n",
        "from sklearn.metrics import confusion_matrix, ConfusionMatrixDisplay\n",
        "from sklearn.model_selection import validation_curve\n",
        "from sklearn.model_selection import KFold\n",
        "from sklearn.model_selection import cross_val_score\n",
        "from sklearn.model_selection import GridSearchCV\n",
        "from sklearn.decomposition import PCA\n",
        "from sklearn.decomposition import KernelPCA\n",
        "from sklearn.linear_model import LogisticRegression\n",
        "from sklearn.metrics import accuracy_score\n",
        "from sklearn.preprocessing import MinMaxScaler\n",
        "from sklearn.discriminant_analysis import LinearDiscriminantAnalysis\n",
        "from sklearn.naive_bayes import GaussianNB\n",
        "from scipy.ndimage.interpolation import shift\n",
        "from PIL import Image, ImageFilter\n",
        "import cv2\n",
        "from tensorflow.keras.layers import Dense\n",
        "from tensorflow.keras import layers \n",
        "from keras.preprocessing.image import ImageDataGenerator\n",
        "import tensorflow_addons as tfa\n",
        "SEED = 42\n",
        "keras.utils.set_random_seed(SEED)"
      ]
    },
    {
      "cell_type": "code",
      "source": [
        "from keras.utils.vis_utils import plot_model"
      ],
      "metadata": {
        "id": "RO9XEMomZ_bP"
      },
      "execution_count": null,
      "outputs": []
    },
    {
      "cell_type": "markdown",
      "metadata": {
        "id": "-c2jSJgaf7-q"
      },
      "source": [
        "## Import data"
      ]
    },
    {
      "cell_type": "code",
      "execution_count": null,
      "metadata": {
        "id": "78F0bOF_f_eC"
      },
      "outputs": [],
      "source": [
        "# root_path = \"/content/gdrive/MyDrive/Colab Notebooks/CS5487/Data/\" # path where we put data\n",
        "root_path = \"https://raw.githubusercontent.com/William-WANG2/CS5487-CityU/master/dataset/\"\n",
        "label_url = os.path.join(root_path, \"digits4000_digits_labels.txt\")\n",
        "data_url = os.path.join(root_path, \"digits4000_digits_vec.txt\")\n",
        "train_index_url = os.path.join(root_path, \"digits4000_trainset.txt\")\n",
        "test_index_url = os.path.join(root_path, \"digits4000_testset.txt\")"
      ]
    },
    {
      "cell_type": "code",
      "execution_count": null,
      "metadata": {
        "id": "-GeJWDjQgr-_"
      },
      "outputs": [],
      "source": [
        "label = pd.read_csv(label_url, sep = ' ', header = None)\n",
        "label.columns = ['label']\n",
        "data = pd.read_csv(data_url, sep = '\\t', header = None)\n",
        "# data = data.T\n",
        "train_index = pd.read_csv(train_index_url, sep = '\\t', header = None)\n",
        "test_index = pd.read_csv(test_index_url, sep = '\\t', header = None)\n",
        "\n"
      ]
    },
    {
      "cell_type": "code",
      "execution_count": null,
      "metadata": {
        "colab": {
          "base_uri": "https://localhost:8080/"
        },
        "id": "dPGJITWX1xtB",
        "outputId": "604aa636-2a09-420c-8351-10e31088f2f6"
      },
      "outputs": [
        {
          "output_type": "stream",
          "name": "stdout",
          "text": [
            "(4000, 1)\n"
          ]
        }
      ],
      "source": [
        "print(label.shape)\n",
        "# print(data)\n",
        "# print(train_index)\n",
        "# print(test_index)"
      ]
    },
    {
      "cell_type": "code",
      "execution_count": null,
      "metadata": {
        "id": "-40lpp6nm8yn"
      },
      "outputs": [],
      "source": [
        "trial_num = 1# {1, 2} try two independent trials "
      ]
    },
    {
      "cell_type": "code",
      "execution_count": null,
      "metadata": {
        "id": "7VmysbQrga9N"
      },
      "outputs": [],
      "source": [
        "trial_train_index = train_index.loc[:, trial_num - 1] - 1\n",
        "trial_test_index = test_index.loc[:, trial_num - 1] - 1\n",
        "x_train = data.loc[trial_train_index , :]\n",
        "x_test = data.loc[trial_test_index, :]\n",
        "y_train = label.loc[trial_train_index]\n",
        "y_test = label.loc[trial_test_index]"
      ]
    },
    {
      "cell_type": "code",
      "execution_count": null,
      "metadata": {
        "colab": {
          "base_uri": "https://localhost:8080/"
        },
        "id": "dnIXd4p4m3_y",
        "outputId": "40f9a3bd-a802-47fe-b4a6-b74d668bf80d"
      },
      "outputs": [
        {
          "output_type": "stream",
          "name": "stdout",
          "text": [
            "(2000, 784)\n",
            "(2000, 784)\n",
            "(2000, 1)\n"
          ]
        }
      ],
      "source": [
        "# testing data\n",
        "print(x_train.shape)\n",
        "# print(x_train.describe())\n",
        "print(x_test.shape)\n",
        "# print(x_test.describe())\n",
        "print(y_train.shape)"
      ]
    },
    {
      "cell_type": "code",
      "execution_count": null,
      "metadata": {
        "colab": {
          "base_uri": "https://localhost:8080/"
        },
        "id": "oXDEXWejMKz2",
        "outputId": "305f1941-6e2a-4f74-eb90-cf4f0aba1d77"
      },
      "outputs": [
        {
          "output_type": "stream",
          "name": "stdout",
          "text": [
            "<class 'pandas.core.frame.DataFrame'>\n"
          ]
        }
      ],
      "source": [
        "print(type(y_train))"
      ]
    },
    {
      "cell_type": "code",
      "execution_count": null,
      "metadata": {
        "colab": {
          "base_uri": "https://localhost:8080/"
        },
        "id": "4izRwHI3QSuI",
        "outputId": "43dba76a-d995-44ef-9c1f-ebdc20234af3"
      },
      "outputs": [
        {
          "output_type": "stream",
          "name": "stdout",
          "text": [
            "Before shuffling:\n",
            "After shuffling\n"
          ]
        },
        {
          "output_type": "execute_result",
          "data": {
            "text/plain": [
              "(-0.5, 27.5, 27.5, -0.5)"
            ]
          },
          "metadata": {},
          "execution_count": 11
        },
        {
          "output_type": "display_data",
          "data": {
            "text/plain": [
              "<Figure size 288x288 with 1 Axes>"
            ],
            "image/png": "[encoded data removed]"
          },
          "metadata": {
            "needs_background": "light"
          }
        },
        {
          "output_type": "display_data",
          "data": {
            "text/plain": [
              "<Figure size 288x288 with 1 Axes>"
            ],
            "image/png": "[encoded data removed]"
          },
          "metadata": {
            "needs_background": "light"
          }
        }
      ],
      "source": [
        "print(\"Before shuffling:\")\n",
        "plt.figure(figsize=(4, 4))\n",
        "image = x_train.iloc[0]\n",
        "image = image.values.reshape(28, 28, 1)\n",
        "plt.imshow(image[:,:,0].astype(\"uint8\"), cmap = 'gray')\n",
        "plt.axis(\"off\")\n",
        "\n",
        "# Shuffle data\n",
        "x_train['label'] = y_train\n",
        "x_train = x_train.sample(frac=1, random_state=42).reset_index(drop=True)\n",
        "y_train = x_train['label']\n",
        "x_train.drop(columns = ['label'], inplace = True)\n",
        "\n",
        "print(\"After shuffling\")\n",
        "plt.figure(figsize=(4, 4))\n",
        "image = x_train.iloc[0]\n",
        "image = image.values.reshape(28, 28, 1)\n",
        "plt.imshow(image[:,:,0].astype(\"uint8\"), cmap = 'gray')\n",
        "plt.axis(\"off\")"
      ]
    },
    {
      "cell_type": "markdown",
      "metadata": {
        "id": "4oT8gBLO7mXl"
      },
      "source": [
        "#### Inspect on 5 random images "
      ]
    },
    {
      "cell_type": "code",
      "execution_count": null,
      "metadata": {
        "id": "3ONBazYY6rqQ",
        "colab": {
          "base_uri": "https://localhost:8080/"
        },
        "outputId": "5ba02351-af9f-4d0f-9371-f217460380d3"
      },
      "outputs": [
        {
          "output_type": "display_data",
          "data": {
            "text/plain": [
              "<Figure size 288x288 with 1 Axes>"
            ],
            "image/png": "[encoded data removed]"
          },
          "metadata": {
            "needs_background": "light"
          }
        },
        {
          "output_type": "display_data",
          "data": {
            "text/plain": [
              "<Figure size 288x288 with 1 Axes>"
            ],
            "image/png": "[encoded data removed]"
          },
          "metadata": {
            "needs_background": "light"
          }
        },
        {
          "output_type": "display_data",
          "data": {
            "text/plain": [
              "<Figure size 288x288 with 1 Axes>"
            ],
            "image/png": "[encoded data removed]"
          },
          "metadata": {
            "needs_background": "light"
          }
        },
        {
          "output_type": "display_data",
          "data": {
            "text/plain": [
              "<Figure size 288x288 with 1 Axes>"
            ],
            "image/png": "[encoded data removed]"
          },
          "metadata": {
            "needs_background": "light"
          }
        },
        {
          "output_type": "display_data",
          "data": {
            "text/plain": [
              "<Figure size 288x288 with 1 Axes>"
            ],
            "image/png": "[encoded data removed]"
          },
          "metadata": {
            "needs_background": "light"
          }
        }
      ],
      "source": [
        "for i in range(5):\n",
        "  plt.figure(figsize=(4, 4))\n",
        "  image = x_train.iloc[np.random.choice(range(x_train.shape[0]))]\n",
        "  image = image.values.reshape(28, 28, 1)\n",
        "  plt.imshow(image[:,:,0].astype(\"uint8\"), cmap = 'gray')\n",
        "  plt.axis(\"off\")"
      ]
    },
    {
      "cell_type": "markdown",
      "metadata": {
        "id": "5H6KlSND1USa"
      },
      "source": [
        "### Encode the categorical target"
      ]
    },
    {
      "cell_type": "code",
      "execution_count": null,
      "metadata": {
        "id": "PrWOmlwm1TYK"
      },
      "outputs": [],
      "source": [
        "num_classes = 10\n",
        "y_train_label = y_train\n",
        "y_test_label = y_test\n",
        "y_train = keras.utils.to_categorical(y_train, num_classes)\n",
        "y_test = keras.utils.to_categorical(y_test, num_classes)"
      ]
    },
    {
      "cell_type": "markdown",
      "metadata": {
        "id": "fHZBBbdkm1tD"
      },
      "source": [
        "## Data preprocessing"
      ]
    },
    {
      "cell_type": "markdown",
      "metadata": {
        "id": "8l2fY_17njH0"
      },
      "source": [
        "### Data Normalization and Augmentation"
      ]
    },
    {
      "cell_type": "code",
      "execution_count": null,
      "metadata": {
        "id": "28K1MbvLEJsi"
      },
      "outputs": [],
      "source": [
        ""
      ]
    },
    {
      "cell_type": "code",
      "execution_count": null,
      "metadata": {
        "id": "sLeHqZxfojle"
      },
      "outputs": [],
      "source": [
        "# This preprossing section is for classical machine learning models only\n",
        "# create new augmented dataset\n",
        "x_train_aug = x_train.to_numpy()\n",
        "x_train_aug = np.vstack((x_train_aug, np.zeros([3*x_train_aug.shape[0], x_train_aug.shape[1]])))\n",
        "y_train_label_aug = y_train_label.to_numpy()\n",
        "y_train_label_aug = np.vstack((y_train_label.to_numpy().reshape([y_train_label_aug.shape[0], 1]), np.zeros([3*y_train_label_aug.shape[0], 1])))\n",
        "\n",
        "#Zooming\n",
        "# reshape to be [samples][width][height][channels]\n",
        "tmp = x_train.to_numpy().reshape((x_train.shape[0], 28, 28, 1))\n",
        "# convert from int to float\n",
        "tmp = tmp.astype('float32')\n",
        "# define data preparation\n",
        "datagen = ImageDataGenerator(zoom_range=[0.7,1.0])\n",
        "# fit parameters from data\n",
        "datagen.fit(tmp)\n",
        "idx = 2000\n",
        "# configure batch size and retrieve one batch of images\n",
        "for X_batch, y_batch in datagen.flow(tmp, y_train_label, batch_size=2000):\n",
        "  X_batch = X_batch.reshape((2000, 784))\n",
        "  x_train_aug[idx:idx+2000, :] = X_batch\n",
        "  y_train_label_aug[idx:idx+2000] = y_batch.reshape([2000,1])\n",
        "  idx+=2000\n",
        "  break\n",
        "\n",
        "#Rotation\n",
        "# reshape to be [samples][width][height][channels]\n",
        "tmp = x_train.to_numpy().reshape((x_train.shape[0], 28, 28, 1))\n",
        "# convert from int to float\n",
        "tmp = tmp.astype('float32')\n",
        "# define data preparation\n",
        "datagen = ImageDataGenerator(rotation_range=20)\n",
        "# fit parameters from data\n",
        "datagen.fit(tmp)\n",
        "idx = 2000\n",
        "# configure batch size and retrieve one batch of images\n",
        "for X_batch, y_batch in datagen.flow(tmp, y_train_label, batch_size=2000):\n",
        "  X_batch = X_batch.reshape((2000, 784))\n",
        "  x_train_aug[idx:idx+2000, :] = X_batch\n",
        "  y_train_label_aug[idx:idx+2000] = y_batch.reshape([2000,1])\n",
        "  idx+=2000\n",
        "  break\n",
        "\n",
        "#Translation\n",
        "# define data preparation\n",
        "shift = 1\n",
        "datagen = ImageDataGenerator(width_shift_range=shift, height_shift_range=shift)\n",
        "# fit parameters from data\n",
        "datagen.fit(tmp)\n",
        "# configure batch size and retrieve one batch of images\n",
        "for X_batch, y_batch in datagen.flow(tmp, y_train_label, batch_size=2000):\n",
        "  X_batch = X_batch.reshape((2000, 784))\n",
        "  x_train_aug[idx:idx+2000, :] = X_batch\n",
        "  y_train_label_aug[idx:idx+2000] = y_batch.reshape([2000,1])\n",
        "  idx+=2000\n",
        "  break\n"
      ]
    },
    {
      "cell_type": "code",
      "execution_count": null,
      "metadata": {
        "id": "u_-WYRComWs8"
      },
      "outputs": [],
      "source": [
        "# # Data normalization\n",
        "# x_train /= 255.0\n",
        "# x_test /= 255.0\n",
        "\n",
        "IMG_SIZE = 36\n",
        "resize = keras.Sequential(\n",
        "    [\n",
        "    layers.Resizing(IMG_SIZE, IMG_SIZE), # Effect of resize : https://keras.io/examples/vision/learnable_resizer/\n",
        "    ]\n",
        ")"
      ]
    },
    {
      "cell_type": "code",
      "execution_count": null,
      "metadata": {
        "id": "P1bif4QdwuMI"
      },
      "outputs": [],
      "source": [
        "# Not used in training. Use ImageDataGenerator instead \n",
        "# https://www.tensorflow.org/tutorials/images/data_augmentation \n",
        "\n",
        "\n",
        "data_augmentation = keras.Sequential(\n",
        "    [\n",
        "        # layers.Normalization(), \n",
        "        # layers.RandomFlip(\"horizontal\"),\n",
        "        layers.RandomRotation(factor=0.1), # minor improvement, 0.86 -> 0.88(only for dataset 1)\n",
        "        layers.experimental.preprocessing.RandomTranslation(height_factor = 0.1, \n",
        "                                                            width_factor = 0.1,\n",
        "                                                            interpolation = 'nearest')\n",
        "        # layers.RandomZoom(\n",
        "        #     height_factor=0.2, width_factor=0.2 # Minor improvement for dataset 0\n",
        "        # ),\n",
        "\n",
        "    ],\n",
        "    name=\"data_augmentation\",\n",
        ")\n",
        "# Compute the mean and the variance of the training data for normalization.\n",
        "# data_augmentation.layers[0].adapt(x_train)\n",
        "\n",
        "  "
      ]
    },
    {
      "cell_type": "code",
      "execution_count": null,
      "metadata": {
        "id": "ZQRv4AUfo8Tv"
      },
      "outputs": [],
      "source": [
        "#normalization\n",
        "x_train_aug = x_train_aug/255.0"
      ]
    },
    {
      "cell_type": "markdown",
      "metadata": {
        "id": "vPypQGiNnUGL"
      },
      "source": [
        "###Extract feature from the data "
      ]
    },
    {
      "cell_type": "code",
      "execution_count": null,
      "metadata": {
        "id": "TVVhBrQtnaXB",
        "colab": {
          "base_uri": "https://localhost:8080/",
          "height": 479
        },
        "outputId": "4c5d93e3-1ab5-4835-cfcc-e04cd0be8c92"
      },
      "outputs": [
        {
          "output_type": "display_data",
          "data": {
            "text/plain": [
              "<Figure size 288x288 with 1 Axes>"
            ],
            "image/png": "[encoded data removed]"
          },
          "metadata": {
            "needs_background": "light"
          }
        },
        {
          "output_type": "display_data",
          "data": {
            "text/plain": [
              "<Figure size 288x288 with 1 Axes>"
            ],
            "image/png": "[encoded data removed]"
          },
          "metadata": {
            "needs_background": "light"
          }
        }
      ],
      "source": [
        "extract_feature = \"edge\"\n",
        "if extract_feature == \"avg2\":\n",
        "  # We choose to average the 2*2 pixels' values of adjacent cells in image and assign it to a new one (resulting 14*14 images).\n",
        "  x_train_aug_ori = x_train_aug\n",
        "  x_train_aug = np.zeros([8000, 196])\n",
        "  for num in range(8000):\n",
        "    idx = 0\n",
        "    for i in range(0, 28, 2):\n",
        "      for j in range(0, 28, 2):\n",
        "        x_train_aug[num, idx] = (x_train_aug_ori[num, i*28+j]+x_train_aug_ori[num, i*28+j+1]+x_train_aug_ori[num, (i+1)*28+j]+x_train_aug_ori[num, (i+1)*28+j+1])/4\n",
        "        idx += 1\n",
        "  x_test_ori = x_test.to_numpy()\n",
        "  x_test = np.zeros([2000, 196])\n",
        "  for num in range(2000):\n",
        "    idx = 0\n",
        "    for i in range(0, 28, 2):\n",
        "      for j in range(0, 28, 2):\n",
        "        x_test[num, idx] = (x_test_ori[num, i*28+j]+x_test_ori[num, i*28+j+1]+x_test_ori[num, (i+1)*28+j]+x_test_ori[num, (i+1)*28+j+1])/4\n",
        "        idx += 1\n",
        "  #plot first one:\n",
        "  plt.figure(figsize=(4, 4))\n",
        "  image = tmp.reshape([x_train_aug.shape[0], 14, 14, 1])[10, :, :, :]\n",
        "  plt.imshow(image[:,:,0].astype(\"uint8\"), cmap = 'gray')\n",
        "  plt.axis(\"off\")\n",
        "elif extract_feature == \"edge\":\n",
        "  #We will convolve the images to get its edge information\n",
        "  #reshape to be [samples][width][height][channels]\n",
        "  tmp = x_train_aug.reshape((x_train_aug.shape[0], 28, 28))\n",
        "  for i in range(8000):\n",
        "    img = tmp[i,:,:]\n",
        "    img = Image.fromarray((img * 255).astype('uint8'), mode='L')\n",
        "    # Detecting Edges on the Image using the argument ImageFilter.FIND_EDGES\n",
        "    # May also consider SMOOTH, SHARPEN, \n",
        "    img = img.filter(ImageFilter.FIND_EDGES)\n",
        "    tmp[i,:,:] = np.array(img)/255\n",
        "  #plot first one:\n",
        "  plt.figure(figsize=(4, 4))\n",
        "  image = tmp.reshape([x_train_aug.shape[0], 28, 28, 1])[10, :, :, :]\n",
        "  plt.imshow(image[:,:,0].astype(\"uint8\"), cmap = 'gray')\n",
        "  plt.axis(\"off\")\n",
        "\n",
        "  x_train_aug = tmp.reshape((8000, 784))\n",
        "\n",
        "  #test set feature extraction\n",
        "  tmp = x_test.to_numpy().reshape((x_test.shape[0], 28, 28))\n",
        "  for i in range(2000):\n",
        "    img = tmp[i,:,:]\n",
        "    img = Image.fromarray((img).astype('uint8'), mode='L')\n",
        "    # Detecting Edges on the Image using the argument ImageFilter.FIND_EDGES\n",
        "    # May also consider SMOOTH, SHARPEN, \n",
        "    img = img.filter(ImageFilter.FIND_EDGES)\n",
        "    tmp[i,:,:] = np.array(img)\n",
        "  x_test = tmp.reshape((2000, 784))\n",
        "    "
      ]
    },
    {
      "cell_type": "markdown",
      "metadata": {
        "id": "G-qV1ysbpCWl"
      },
      "source": [
        "###Dimensionality Reduction\n",
        "\n"
      ]
    },
    {
      "cell_type": "markdown",
      "metadata": {
        "id": "kamYim-hpcQC"
      },
      "source": [
        "PCA"
      ]
    },
    {
      "cell_type": "code",
      "execution_count": null,
      "metadata": {
        "id": "ehoP-zUypOF6"
      },
      "outputs": [],
      "source": [
        "#see documentation: https://scikit-learn.org/stable/modules/generated/sklearn.decomposition.PCA.html\n",
        "pca_digits=PCA(n_components=150) \n",
        "x_train_aug_pca = pca_digits.fit_transform(x_train_aug) \n",
        "plt.plot(pca_digits.explained_variance_ratio_)\n",
        "plt.xlabel(\"# of Principle Components\")\n",
        "plt.ylabel(\"Explaned Variance\")\n",
        "plt.show()"
      ]
    },
    {
      "cell_type": "markdown",
      "metadata": {
        "id": "wzCk2lG07MDi"
      },
      "source": [
        "Hence, from the figure, we will choose the first 40 principle components as it gives the sudden change of rate.\n",
        "\n",
        "If we use the average of 4 features, we use first 40 principle components\n",
        "\n",
        "If we use edge information, we use first 60 principle components."
      ]
    },
    {
      "cell_type": "code",
      "execution_count": null,
      "metadata": {
        "id": "1yIJ0iBVpXTr"
      },
      "outputs": [],
      "source": [
        "pca_digits=PCA(40) \n",
        "x_train_aug_pca = pca_digits.fit_transform(x_train_aug) \n",
        "if extract_feature == \"edge\":\n",
        "  pca_digits=PCA(60) \n",
        "  x_train_aug_pca = pca_digits.fit_transform(x_train_aug) "
      ]
    },
    {
      "cell_type": "code",
      "execution_count": null,
      "metadata": {
        "id": "DzskGmmzpZqw"
      },
      "outputs": [],
      "source": [
        "#PCA first 10 principle vectors visualization\n",
        "#Setup a figure 8 inches by 8 inches \n",
        "fig = plt.figure(figsize=(8,8)) \n",
        "fig.subplots_adjust(left=0, right=1, bottom=0, top=1, hspace=0.05, wspace=0.05) \n",
        "# plot the digits, each image is 64 by 64 pixels \n",
        "for i in range(20): \n",
        "  ax = fig.add_subplot(5, 5, i+1, xticks=[], yticks=[]) \n",
        "  ax.imshow(np.reshape(pca_digits.components_[i,:], (np.sqrt(x_train_aug.shape[1]).astype(int),np.sqrt(x_train_aug.shape[1]).astype(int))), cmap=plt.cm.bone, interpolation='nearest') "
      ]
    },
    {
      "cell_type": "markdown",
      "metadata": {
        "id": "78BK3eMqpjG0"
      },
      "source": [
        "kPCA"
      ]
    },
    {
      "cell_type": "code",
      "execution_count": null,
      "metadata": {
        "id": "KQpBsG93pk7Q"
      },
      "outputs": [],
      "source": [
        "#kpca\n",
        "kpca_digits = KernelPCA(n_components=150, kernel=\"poly\", degree=4)\n",
        "x_train_aug_kpca = kpca_digits.fit_transform(x_train_aug) \n",
        "plt.plot(kpca_digits.eigenvalues_)\n",
        "plt.xlabel(\"# of Principle Components\")\n",
        "plt.ylabel(\"Eigenvalues\")\n",
        "plt.show()"
      ]
    },
    {
      "cell_type": "markdown",
      "metadata": {
        "id": "jtW6XJlE7db3"
      },
      "source": [
        "Hence, still, from the figure, we will choose the first 40 principle components as it gives the sudden change of rate.\n",
        "If we use the average of 4 features, we use first 40 principle components.\n",
        "If we use edge information, we use first 60 principle components."
      ]
    },
    {
      "cell_type": "code",
      "execution_count": null,
      "metadata": {
        "id": "1kA1coIpr5Wr"
      },
      "outputs": [],
      "source": [
        "kpca_digits = KernelPCA(n_components=40, kernel=\"poly\", degree=4)\n",
        "x_train_aug_kpca = kpca_digits.fit_transform(x_train_aug) \n",
        "if extract_feature == \"edge\":\n",
        "  kpca_digits = KernelPCA(n_components=60, kernel=\"poly\", degree=4)\n",
        "  x_train_aug_kpca = kpca_digits.fit_transform(x_train_aug) "
      ]
    },
    {
      "cell_type": "markdown",
      "metadata": {
        "id": "HUPv1QWQZaor"
      },
      "source": [
        "LDA"
      ]
    },
    {
      "cell_type": "markdown",
      "metadata": {
        "id": "c-tjJzH0Zhve"
      },
      "source": [
        "Since the number of features k = 784 >> C = 10, we adopt the largest number of components after LDA, i.e. C-1 = 9 which is also the default setting in [scikit learn package](https://scikit-learn.org/stable/modules/generated/sklearn.discriminant_analysis.LinearDiscriminantAnalysis.html). "
      ]
    },
    {
      "cell_type": "code",
      "execution_count": null,
      "metadata": {
        "id": "ZQB72ZKLZ80g"
      },
      "outputs": [],
      "source": [
        "lda_digits = LinearDiscriminantAnalysis()\n",
        "x_train_aug_lda = lda_digits.fit_transform(x_train_aug, np.ravel(y_train_label_aug))"
      ]
    },
    {
      "cell_type": "markdown",
      "metadata": {
        "id": "RFkJ6nnRpKun"
      },
      "source": [
        "##Model"
      ]
    },
    {
      "cell_type": "code",
      "execution_count": null,
      "metadata": {
        "id": "re6VfirYFLHq"
      },
      "outputs": [],
      "source": [
        "model_name= \"MLP\" # \"MLP\", \"SVM\", \"Logit\", \"NaiveBayes\", \"CNN\", \"ViT\", \"ViT_SPT\""
      ]
    },
    {
      "cell_type": "markdown",
      "metadata": {
        "id": "hPARsaomp_G7"
      },
      "source": [
        "We first define some functions to be used in training the classic machine learning models, i.e. SVM, Naive Bayes, Logistic Regression."
      ]
    },
    {
      "cell_type": "code",
      "execution_count": null,
      "metadata": {
        "id": "GGQhT7t1qFds"
      },
      "outputs": [],
      "source": [
        "#Cross-Validation for regularizition Parameter C tunning\n",
        "def plot_cv_acc(model, x, y, title):\n",
        "  #Cross-Validation for C \n",
        "  acc = []\n",
        "  for c in [0.01,0.1,1,10,100]:\n",
        "      model.set_params(C = c)\n",
        "      #cross-validation\n",
        "      scores = cross_val_score(model, x, np.ravel(y), cv=5)\n",
        "      acc.append(scores)\n",
        "\n",
        "  c = [0.01,0.1,1,10,100]\n",
        "  plt.subplots(figsize=(10, 5))\n",
        "  plt.semilogx(c, acc,'-D')\n",
        "  plt.grid(True)\n",
        "  plt.xlabel(\"Regularization parameter C\")\n",
        "  plt.ylabel(\"Accuracy\")\n",
        "  plt.legend([\"#1 splitting\", \"#2 splitting\", \"#3 splitting\", \"#4 splitting\", \"#5 splitting\"])\n",
        "  plt.title(title)\n",
        "  plt.show()\n",
        "\n",
        "#Training and Testing for SVM and Logistic Regression\n",
        "def evaluate1(model, trainx, trainy, testx, testy, c, name):\n",
        "  print(\"### Start Training\")\n",
        "  model.set_params(C = c)\n",
        "  model.fit(trainx, np.ravel(trainy))\n",
        "  print(\"======================================\")\n",
        "  print(\"### Test Result (%s): \", name)\n",
        "  pred = model.predict(testx)\n",
        "  print(accuracy_score(pred, np.ravel(testy)))\n",
        "  cm = confusion_matrix(testy, pred, labels=model.classes_)\n",
        "  disp = ConfusionMatrixDisplay(confusion_matrix=cm, display_labels=model.classes_)\n",
        "  disp.plot()\n",
        "\n",
        "#Training and Testing for Naive Bayes\n",
        "def evaluate2(model, trainx, trainy, testx, testy, name):\n",
        "  print(\"### Start Training\")\n",
        "  model.fit(trainx, np.ravel(trainy))\n",
        "  print(\"======================================\")\n",
        "  print(\"### Test Result (%s): \", name)\n",
        "  pred = model.predict(testx)\n",
        "  print(accuracy_score(pred, np.ravel(testy)))\n",
        "  cm = confusion_matrix(testy, pred, labels=model.classes_)\n",
        "  disp = ConfusionMatrixDisplay(confusion_matrix=cm, display_labels=model.classes_)\n",
        "  disp.plot()"
      ]
    },
    {
      "cell_type": "markdown",
      "metadata": {
        "id": "Lf1v9X_kwZ1F"
      },
      "source": [
        "### Multi-Layer Perceptron"
      ]
    },
    {
      "cell_type": "markdown",
      "metadata": {
        "id": "HUEZDaSKKe_Z"
      },
      "source": [
        "Result:\n",
        "0.94 on trial 1 <br/>\n",
        "0.9335 on trial 2"
      ]
    },
    {
      "cell_type": "code",
      "execution_count": null,
      "metadata": {
        "id": "0SiR3UTAw6A6",
        "colab": {
          "base_uri": "https://localhost:8080/",
          "height": 369
        },
        "outputId": "fc9cc5d7-e77b-4b9a-ece1-e9d852015a0e"
      },
      "outputs": [
        {
          "output_type": "stream",
          "name": "stderr",
          "text": [
            "/usr/local/lib/python3.7/dist-packages/keras/optimizer_v2/gradient_descent.py:102: UserWarning: The `lr` argument is deprecated, use `learning_rate` instead.\n",
            "  super(SGD, self).__init__(name, **kwargs)\n"
          ]
        },
        {
          "output_type": "stream",
          "name": "stdout",
          "text": [
            "### Start Training\n",
            "======================================\n",
            "### Test Result: \n",
            "63/63 [==============================] - 0s 2ms/step - loss: 0.2097 - accuracy: 0.9440\n"
          ]
        },
        {
          "output_type": "display_data",
          "data": {
            "text/plain": [
              "<Figure size 432x288 with 1 Axes>"
            ],
            "image/png": "[encoded data removed]"
          },
          "metadata": {
            "needs_background": "light"
          }
        }
      ],
      "source": [
        "if model_name == \"MLP\":\n",
        "    keras.backend.clear_session() # clear previous cache\n",
        "    model = keras.models.Sequential([\n",
        "        # keras.layers.InputLayer(input_shape=(784, 1)),\n",
        "        keras.layers.Rescaling(1/255.0),                              \n",
        "        keras.layers.Dense(512, use_bias = True, \n",
        "                            activation = 'relu'\n",
        "        ), # how to set the dense layer size \n",
        "        keras.layers.BatchNormalization(),\n",
        "        keras.layers.Dense(512, use_bias = True,\n",
        "                            activation = 'relu'\n",
        "                            ),\n",
        "        keras.layers.BatchNormalization(),\n",
        "        \n",
        "        keras.layers.Dense(100, use_bias = True, \n",
        "                            activation = 'relu'\n",
        "                            ),\n",
        "        keras.layers.BatchNormalization(),\n",
        "        keras.layers.Dense(10, activation='softmax')\n",
        "    ])\n",
        "\n",
        "    # model = keras.models.Sequential()\n",
        "    # model.add(Dense(units=512, activation='relu', input_shape=(784,)))\n",
        "    # model.add(Dense(units = 512, activation='relu'))\n",
        "    # model.add(Dense(units = 10, activation='softmax'))\n",
        "    model.build(x_train.shape)\n",
        "    # model.summary() \n",
        "    # Optimizer\n",
        "    sgd = keras.optimizers.SGD(lr=0.01, decay=1e-6, momentum=0.9, nesterov=True)\n",
        "    model.compile(loss=\"categorical_crossentropy\"\n",
        "    , optimizer=sgd\n",
        "    , metrics=[\"accuracy\"])\n",
        "    # plot_model(model, to_file='custom-mlp.png', show_shapes=True, show_layer_names=False)\n",
        "\n",
        "    print(\"### Start Training\")\n",
        "    history = model.fit(x_train, y_train, epochs = 40, verbose = 0)\n",
        "    pd.DataFrame(history.history).plot()\n",
        "    print(\"======================================\")\n",
        "    print(\"### Test Result: \")\n",
        "    model.evaluate(x_test, y_test)    "
      ]
    },
    {
      "cell_type": "markdown",
      "metadata": {
        "id": "RBJqfPnQWhsU"
      },
      "source": [
        "###SVM"
      ]
    },
    {
      "cell_type": "markdown",
      "metadata": {
        "id": "bF9rfdy7iW_V"
      },
      "source": [
        "**Result**: <br/>\n",
        "\n",
        "\n",
        "1.   SVM+PCA\n",
        "\n",
        "*   trial 1: 0.8755\n",
        "*   trial 2: 0.72\n",
        "*   challenge: 0.5867\n",
        "\n",
        "2.   kSVM+PCA\n",
        "\n",
        "*   trial 1: 0.9565\n",
        "*   trial 2: 0.978\n",
        "*   challenge: 0.7667\n",
        "3.   SVM+kPCA\n",
        "*   trial 1: 0.8865\n",
        "*   trial 2: 0.786\n",
        "*   challenge: 0.6\n",
        "4.   kSVM+kPCA\n",
        "*   trial 1: 0.954\n",
        "*   trial 2: 0.974\n",
        "*   challenge: 0.7667\n",
        "5.   SVM+LDA\n",
        "*   trial 1: 0.8055\n",
        "*   trial 2: 0.8575\n",
        "*   challenge: 0.507\n",
        "6.   kSVM+LDA\n",
        "*   trial 1: 0.8155\n",
        "*   trial 2: 0.9595\n",
        "*   challenge: 0.527\n"
      ]
    },
    {
      "cell_type": "markdown",
      "metadata": {
        "id": "bTrn2jp79jeZ"
      },
      "source": [
        "Hyper-Parameter Tuning\n",
        "\n"
      ]
    },
    {
      "cell_type": "code",
      "execution_count": null,
      "metadata": {
        "id": "-kB6D5sSWjzX"
      },
      "outputs": [],
      "source": [
        "#Cross-Validation for hyper-para C\n",
        "if model_name == \"SVM\":\n",
        "\n",
        "  lsvm = LinearSVC(fit_intercept=True, dual = False)\n",
        "  ksvm = SVC(kernel='rbf')\n",
        "  #Cross-Validation for C in SVM and kSVM\n",
        "  plot_cv_acc(lsvm, x_train_aug, y_train_label_aug, 'Accuracy versus the Regularization parameter C (SVM)')\n",
        "  plot_cv_acc(ksvm, x_train_aug, y_train_label_aug, 'Accuracy versus the Regularization parameter C (kSVM)')\n",
        "  #Cross-Validation for C in SVM + PCA\n",
        "  plot_cv_acc(lsvm, x_train_aug_pca, y_train_label_aug, 'Accuracy versus the Regularization parameter C (SVM + PCA)')\n",
        "  #Cross-Validation for C in kSVM + PCA\n",
        "  plot_cv_acc(ksvm, x_train_aug_pca, y_train_label_aug, 'Accuracy versus the Regularization parameter C (kSVM + PCA)')\n",
        "  #Cross-Validation for C in SVM + kPCA\n",
        "  plot_cv_acc(lsvm, x_train_aug_kpca, y_train_label_aug, 'Accuracy versus the Regularization parameter C (SVM + kPCA)')\n",
        "  #Cross-Validation for C in kSVM + kPCA\n",
        "  plot_cv_acc(ksvm, x_train_aug_kpca, y_train_label_aug, 'Accuracy versus the Regularization parameter C (kSVM + kPCA)')\n",
        "  #Cross-Validation for C in SVM + LDA\n",
        "  plot_cv_acc(lsvm, x_train_aug_lda, y_train_label_aug, 'Accuracy versus the Regularization parameter C (SVM + LDA)')\n",
        "  #Cross-Validation for C in kSVM + LDA\n",
        "  plot_cv_acc(ksvm, x_train_aug_lda, y_train_label_aug, 'Accuracy versus the Regularization parameter C (kSVM + LDA)')\n"
      ]
    },
    {
      "cell_type": "markdown",
      "metadata": {
        "id": "kSgIhnjf7nH6"
      },
      "source": [
        "From the above 6 figures, we conclude that for all 4 combinations given by (PCA, kPCA, LDA) * (SVM, kSVM), we adopt \n",
        "\n",
        "---\n",
        "C = 1, except for LDA, we adopt C = 0.1"
      ]
    },
    {
      "cell_type": "markdown",
      "metadata": {
        "id": "pc140OKO9sTF"
      },
      "source": [
        "Training and Testing"
      ]
    },
    {
      "cell_type": "code",
      "execution_count": null,
      "metadata": {
        "id": "OjrcM7ZjE_GR"
      },
      "outputs": [],
      "source": [
        "#Normolization Test Set\n",
        "if model_name == \"SVM\":\n",
        "  x_test = x_test/255"
      ]
    },
    {
      "cell_type": "code",
      "execution_count": null,
      "metadata": {
        "id": "rUsdP-TF9fNN"
      },
      "outputs": [],
      "source": [
        "if model_name == \"SVM\":\n",
        "  #Train and Testing\n",
        "  lsvm = LinearSVC(fit_intercept=True, dual = False)\n",
        "  ksvm = SVC(kernel='rbf')\n",
        "  lsvm_pca = LinearSVC(fit_intercept=True, dual = False)\n",
        "  ksvm_pca = SVC(kernel='rbf')\n",
        "  lsvm_kpca = LinearSVC(fit_intercept=True, dual = False)\n",
        "  ksvm_kpca = SVC(kernel='rbf')\n",
        "  lsvm_lda = LinearSVC(fit_intercept=True, dual = False)\n",
        "  ksvm_lda = SVC(kernel='rbf')\n",
        "\n",
        "  evaluate1(lsvm, x_train_aug, y_train_label_aug, x_test, y_test_label, 1, \"SVM\")\n",
        "  evaluate1(ksvm, x_train_aug, y_train_label_aug, x_test, y_test_label, 1, \"kSVM\")\n",
        "  #PCA\n",
        "  evaluate1(lsvm_pca, x_train_aug_pca, y_train_label_aug, pca_digits.transform(x_test), y_test_label, 1, \"PCA + SVM\")\n",
        "  evaluate1(ksvm_pca, x_train_aug_pca, y_train_label_aug, pca_digits.transform(x_test), y_test_label, 1, \"PCA + kSVM\")\n",
        "  #kPCA\n",
        "  evaluate1(lsvm_kpca, x_train_aug_kpca, y_train_label_aug, kpca_digits.transform(x_test), y_test_label, 1, \"kPCA + SVM\")\n",
        "  evaluate1(ksvm_kpca, x_train_aug_kpca, y_train_label_aug, kpca_digits.transform(x_test), y_test_label, 1, \"kPCA + kSVM\")\n",
        "  #LDA\n",
        "  evaluate1(lsvm_lda, x_train_aug_lda, y_train_label_aug, lda_digits.transform(x_test), y_test_label, 1, \"LDA + SVM\")\n",
        "  if extract_feature == \"avg2\":\n",
        "    evaluate1(ksvm_lda, x_train_aug_lda, y_train_label_aug, lda_digits.transform(x_test), y_test_label, 10, \"LDA + kSVM\")\n",
        "  else:\n",
        "    evaluate1(ksvm_lda, x_train_aug_lda, y_train_label_aug, lda_digits.transform(x_test), y_test_label, 0.1, \"LDA + kSVM\")\n"
      ]
    },
    {
      "cell_type": "markdown",
      "metadata": {
        "id": "SFPkG5RqXyZl"
      },
      "source": [
        "###Logistic Regression"
      ]
    },
    {
      "cell_type": "markdown",
      "metadata": {
        "id": "9QBIBR1QNOMV"
      },
      "source": [
        "1.   Logistic Regression\n",
        "\n",
        "*   trial 1: 0.8715\n",
        "*   trial 2: 0.8705\n",
        "*   challenge: 0.567\n",
        "\n",
        "2.   Logistic Regression+PCA\n",
        "\n",
        "*   trial 1: 0.8825\n",
        "*   trial 2: 0.7385\n",
        "*   challenge: 0.533\n",
        "3.   Logistic Regression+kPCA\n",
        "*   trial 1: 0.7595\n",
        "*   trial 2: 0.519\n",
        "*   challenge: 0.5533\n",
        "4.   Logistic Regression+LDA\n",
        "*   trial 1: 0.802\n",
        "*   trial 2: 0.8765\n",
        "*   challenge: 0.513"
      ]
    },
    {
      "cell_type": "markdown",
      "metadata": {
        "id": "eBJJntd-_HOZ"
      },
      "source": [
        "Hyper-Parameter Tuning"
      ]
    },
    {
      "cell_type": "code",
      "execution_count": null,
      "metadata": {
        "id": "L29GOvULX3Hp"
      },
      "outputs": [],
      "source": [
        "if model_name == \"Logit\":\n",
        "  #Cross-Validation for C in Logistic Regression\n",
        "  logit = LogisticRegression(\n",
        "      solver='liblinear',\n",
        "      random_state = 42,\n",
        "      penalty = 'l2')\n",
        "  plot_cv_acc(logit, x_train_aug, y_train_label_aug, 'Accuracy versus the Regularization parameter C (Logistic Regression)')\n",
        "  #CV for logit+PCA\n",
        "  plot_cv_acc(logit, x_train_aug_pca, y_train_label_aug, 'Accuracy versus the Regularization parameter C (Logistic Regression+PCA)')\n",
        "  #CV for logit+kPCA\n",
        "  plot_cv_acc(logit, x_train_aug_kpca, y_train_label_aug, 'Accuracy versus the Regularization parameter C (Logistic Regression+kPCA)')\n",
        "  #CV for logit+LDA\n",
        "  plot_cv_acc(logit, x_train_aug_lda, y_train_label_aug, 'Accuracy versus the Regularization parameter C (Logistic Regression+LDA)')"
      ]
    },
    {
      "cell_type": "markdown",
      "metadata": {
        "id": "twsQy8qxCCTC"
      },
      "source": [
        "From the above 4 figures, we conclude that for all 4 combinations given by Logistic Regression and (nil, PCA, kPCA, LDA), we adopt \n",
        "\n",
        "---\n",
        "C = 1, 1 and 0.1"
      ]
    },
    {
      "cell_type": "code",
      "execution_count": null,
      "metadata": {
        "id": "AZHpwGbNAWsl"
      },
      "outputs": [],
      "source": [
        "#Normalization\n",
        "if model_name == \"Logit\":\n",
        "  x_test = x_test/255"
      ]
    },
    {
      "cell_type": "code",
      "execution_count": null,
      "metadata": {
        "id": "7m-RNTwoAfE3"
      },
      "outputs": [],
      "source": [
        "if model_name == \"Logit\":\n",
        "  #Train and Testing\n",
        "  logit = LogisticRegression(\n",
        "      solver='liblinear',\n",
        "      penalty = 'l2')\n",
        "  logit_pca = LogisticRegression(\n",
        "      solver='liblinear',\n",
        "      penalty = 'l2')\n",
        "  logit_kpca = LogisticRegression(\n",
        "      solver='liblinear',\n",
        "      penalty = 'l2')\n",
        "  logit_lda = LogisticRegression(\n",
        "      solver='liblinear',\n",
        "      penalty = 'l2')\n",
        "  evaluate1(logit, x_train_aug, y_train_label_aug, x_test, y_test_label, 1, \"Logistic Regression\")\n",
        "  #PCA\n",
        "  evaluate1(logit_pca, x_train_aug_pca, y_train_label_aug, pca_digits.transform(x_test), y_test_label, 1, \"Logistic Regression+PCA\")\n",
        "  #kPCA\n",
        "  evaluate1(logit_kpca, x_train_aug_kpca, y_train_label_aug, kpca_digits.transform(x_test), y_test_label, 0.1, \"Logistic Regresion+kPCA\")\n",
        "  #LDA\n",
        "  evaluate1(logit_lda, x_train_aug_lda, y_train_label_aug, lda_digits.transform(x_test), y_test_label, 0.1, \"Logistic Regresion+LDA\")\n"
      ]
    },
    {
      "cell_type": "markdown",
      "metadata": {
        "id": "mvIk4Ua10E22"
      },
      "source": [
        "###Naive Bayes"
      ]
    },
    {
      "cell_type": "markdown",
      "metadata": {
        "id": "tMgsYf8clZZA"
      },
      "source": [
        "1.  Naive Bayes\n",
        "\n",
        "*   trial 1: 0.5465\n",
        "*   trial 2: 0.515\n",
        "*   challenge: 0.367\n",
        "\n",
        "2.   Naive Bayes+PCA\n",
        "\n",
        "*   trial 1: 0.7905\n",
        "*   trial 2: 0.73\n",
        "*   challenge: 0.48\n",
        "3.   Naive Bayes+kPCA\n",
        "*   trial 1: 0.7825\n",
        "*   trial 2: 0.7275\n",
        "*   challenge: 0.48\n",
        "4.   Naive Bayes+LDA\n",
        "*   trial 1: 0.771\n",
        "*   trial 2: 0.918\n",
        "*   challenge: 0.473"
      ]
    },
    {
      "cell_type": "markdown",
      "metadata": {
        "id": "Ht-7oERj1TCz"
      },
      "source": [
        "\n",
        "\n",
        "*   We will assume the prior probability is P(Y = k) = 1/10 for every class, i.e. k = 1 to 9 based on the data distribution which is the default parameter in [Scikit Learn Naive Bayes Classifier](https://scikit-learn.org/stable/modules/generated/sklearn.naive_bayes.GaussianNB.html)"
      ]
    },
    {
      "cell_type": "code",
      "execution_count": null,
      "metadata": {
        "id": "0oaOvKSw5Go5"
      },
      "outputs": [],
      "source": [
        "#Normalization\n",
        "if model_name == \"NaiveBayes\":\n",
        "  x_test = x_test/255"
      ]
    },
    {
      "cell_type": "code",
      "execution_count": null,
      "metadata": {
        "id": "HsLJTrFv1P09",
        "colab": {
          "base_uri": "https://localhost:8080/",
          "height": 1000
        },
        "outputId": "76fc2c74-8bc2-477e-ed2e-378f97f04e33"
      },
      "outputs": [
        {
          "output_type": "stream",
          "name": "stdout",
          "text": [
            "### Start Training\n",
            "======================================\n",
            "### Test Result (%s):  Naive Bayes Gaussian\n",
            "0.497\n",
            "### Start Training\n",
            "======================================\n",
            "### Test Result (%s):  Naive Bayes Gaussian+PCA\n",
            "0.78\n",
            "### Start Training\n",
            "======================================\n",
            "### Test Result (%s):  Naive Bayes Gaussian+kPCA\n",
            "0.764\n",
            "### Start Training\n",
            "======================================\n",
            "### Test Result (%s):  Naive Bayes Gaussian+LDA\n",
            "0.815\n"
          ]
        },
        {
          "output_type": "display_data",
          "data": {
            "text/plain": [
              "<Figure size 432x288 with 2 Axes>"
            ],
            "image/png": "[encoded data removed]"
          },
          "metadata": {
            "needs_background": "light"
          }
        },
        {
          "output_type": "display_data",
          "data": {
            "text/plain": [
              "<Figure size 432x288 with 2 Axes>"
            ],
            "image/png": "[encoded data removed]"
          },
          "metadata": {
            "needs_background": "light"
          }
        },
        {
          "output_type": "display_data",
          "data": {
            "text/plain": [
              "<Figure size 432x288 with 2 Axes>"
            ],
            "image/png": "[encoded data removed]"
          },
          "metadata": {
            "needs_background": "light"
          }
        },
        {
          "output_type": "display_data",
          "data": {
            "text/plain": [
              "<Figure size 432x288 with 2 Axes>"
            ],
            "image/png": "[encoded data removed]"
          },
          "metadata": {
            "needs_background": "light"
          }
        }
      ],
      "source": [
        "#Training and Testing\n",
        "if model_name == \"NaiveBayes\":\n",
        "  gaussianNB = GaussianNB()\n",
        "  gaussianNB_pca = GaussianNB()\n",
        "  gaussianNB_kpca = GaussianNB()\n",
        "  gaussianNB_lda = GaussianNB()\n",
        "  evaluate2(gaussianNB, x_train_aug, y_train_label_aug, x_test, y_test_label, \"Naive Bayes Gaussian\")\n",
        "  #PCA\n",
        "  evaluate2(gaussianNB_pca, x_train_aug_pca, y_train_label_aug, pca_digits.transform(x_test), y_test_label, \"Naive Bayes Gaussian+PCA\")\n",
        "  #kPCA\n",
        "  evaluate2(gaussianNB_kpca, x_train_aug_kpca, y_train_label_aug, kpca_digits.transform(x_test), y_test_label, \"Naive Bayes Gaussian+kPCA\")\n",
        "  #LDA\n",
        "  evaluate2(gaussianNB_lda, x_train_aug_lda, y_train_label_aug, lda_digits.transform(x_test), y_test_label, \"Naive Bayes Gaussian+LDA\")\n"
      ]
    },
    {
      "cell_type": "markdown",
      "metadata": {
        "id": "Eu5M4Cndsd9n"
      },
      "source": [
        "### CNN "
      ]
    },
    {
      "cell_type": "markdown",
      "source": [
        "**For validation results of CNN and CNN Ensemble, please refer to** https://colab.research.google.com/drive/1ypxLWrY5ud0hjbWZMxqgUY3tNsf-pwYP?usp=sharing"
      ],
      "metadata": {
        "id": "aC9Gp_kAlNfE"
      }
    },
    {
      "cell_type": "code",
      "source": [
        "def M3(img_size = 36):\n",
        "    keras.backend.clear_session() # clear previous cache\n",
        "    model = keras.models.Sequential([\n",
        "                                    keras.layers.InputLayer(input_shape=(28, 28, 1)),\n",
        "                                    layers.Resizing(img_size, img_size), \n",
        "                                    keras.layers.Conv2D(filters=16, kernel_size=(3,3), \n",
        "                                                          padding='valid', activation=\"relu\"),\n",
        "                                    keras.layers.BatchNormalization(),\n",
        "                                    keras.layers.Conv2D(filters=32, kernel_size=(3, 3), padding='valid', activation=\"relu\"),\n",
        "                                    keras.layers.BatchNormalization(),\n",
        "                                    keras.layers.Conv2D(filters=48, kernel_size=(3, 3), padding='valid', activation=\"relu\"),\n",
        "                                    keras.layers.BatchNormalization(),\n",
        "                                    keras.layers.Conv2D(filters=64, kernel_size=(3, 3), padding='valid', activation=\"relu\"),\n",
        "                                    keras.layers.BatchNormalization(),\n",
        "                                    keras.layers.Conv2D(filters=80, kernel_size=(3, 3), padding='valid', activation=\"relu\"),\n",
        "                                    keras.layers.BatchNormalization(),\n",
        "                                    keras.layers.Conv2D(filters=96, kernel_size=(3, 3), padding='valid', activation=\"relu\"),\n",
        "                                    keras.layers.BatchNormalization(),\n",
        "                                    keras.layers.Conv2D(filters=112, kernel_size=(3, 3), padding='valid', activation=\"relu\"),\n",
        "                                    keras.layers.BatchNormalization(),\n",
        "                                    keras.layers.Conv2D(filters=128, kernel_size=(3, 3), padding='valid', activation=\"relu\"),\n",
        "                                    keras.layers.BatchNormalization(),\n",
        "                                    keras.layers.Conv2D(filters=144, kernel_size=(3, 3), padding='valid', activation=\"relu\"),\n",
        "                                    keras.layers.BatchNormalization(),\n",
        "                                    keras.layers.Conv2D(filters=160, kernel_size=(3, 3), padding='valid', activation=\"relu\"),\n",
        "                                    keras.layers.BatchNormalization(),\n",
        "                                    keras.layers.Conv2D(filters=176, kernel_size=(3, 3), padding='valid', activation=\"relu\"),\n",
        "                                    keras.layers.BatchNormalization(),\n",
        "                                    keras.layers.Flatten(),# flatten layer \n",
        "                                    keras.layers.Dense(units = 256,activation='relu'),  #input layer \n",
        "                                    keras.layers.BatchNormalization(),\n",
        "                                    keras.layers.Dense(units = 10, activation='softmax'),# output layer \n",
        "    ])\n",
        "    return model\n",
        "def M5(img_size = 36):\n",
        "    keras.backend.clear_session() # clear previous cache\n",
        "    model = keras.models.Sequential([\n",
        "                                    keras.layers.InputLayer(input_shape=(28, 28, 1)),\n",
        "                                    layers.Resizing(img_size, img_size), \n",
        "                                      keras.layers.Conv2D(filters=16, kernel_size=(5,5), \n",
        "                                                          padding='valid', activation=\"relu\"),\n",
        "                                    keras.layers.BatchNormalization(),\n",
        "                                    keras.layers.Conv2D(filters=32, kernel_size=(5, 5), padding='valid', activation=\"relu\"),\n",
        "                                    keras.layers.BatchNormalization(),\n",
        "                                    keras.layers.Conv2D(filters=64, kernel_size=(5, 5), padding='valid', activation=\"relu\"),\n",
        "                                    keras.layers.BatchNormalization(),\n",
        "                                    keras.layers.Conv2D(filters=96, kernel_size=(5, 5), padding='valid', activation=\"relu\"),\n",
        "                                    keras.layers.BatchNormalization(),\n",
        "                                    keras.layers.Conv2D(filters=128, kernel_size=(5, 5), padding='valid', activation=\"relu\"),\n",
        "                                    keras.layers.BatchNormalization(),\n",
        "                                    keras.layers.Conv2D(filters=160, kernel_size=(5, 5), padding='valid', activation=\"relu\"),\n",
        "                                    keras.layers.BatchNormalization(),\n",
        "                                    keras.layers.Flatten(),# flatten layer \n",
        "                                    keras.layers.Dense(units = 256, activation='relu'),  #input layer \n",
        "                                    keras.layers.BatchNormalization(),\n",
        "                                    keras.layers.Dense(units = 10, activation='softmax'),# output layer \n",
        "    ])\n",
        "    return model\n",
        "def M7(img_size = 36):\n",
        "    keras.backend.clear_session() # clear previous cache\n",
        "    model = keras.models.Sequential([\n",
        "                                keras.layers.InputLayer(input_shape=(28, 28, 1)),\n",
        "                                layers.Resizing(img_size, img_size), # Effect of resize : https://keras.io/examples/vision/learnable_resizer/\n",
        "                                keras.layers.Conv2D(filters=48, kernel_size=(7, 7), \n",
        "                                                    # input_shape=(IMG_SIZE,IMG_SIZE,1),\n",
        "                                                    padding='valid', activation=\"relu\"),\n",
        "                                keras.layers.BatchNormalization(),\n",
        "                                keras.layers.Conv2D(filters=96, kernel_size=(7, 7), padding='valid', activation=\"relu\"),\n",
        "                                keras.layers.BatchNormalization(),\n",
        "                                keras.layers.Conv2D(filters=144, kernel_size=(7, 7), padding='valid', activation=\"relu\"),\n",
        "                                keras.layers.BatchNormalization(),\n",
        "                                keras.layers.Conv2D(filters=192, kernel_size=(7, 7), padding='valid', activation=\"relu\"),\n",
        "                                keras.layers.BatchNormalization(),\n",
        "                                keras.layers.Flatten(),# flatten layer \n",
        "                                keras.layers.Dense(units = 128, activation='relu'),  #input layer \n",
        "                                keras.layers.BatchNormalization(),\n",
        "                                keras.layers.Dense(units = 10, activation='softmax'),# output layer \n",
        "    ])\n",
        "    return model"
      ],
      "metadata": {
        "id": "pnI0fMx6tOOG"
      },
      "execution_count": null,
      "outputs": []
    },
    {
      "cell_type": "code",
      "execution_count": null,
      "metadata": {
        "id": "2C5zjXaOsd9n"
      },
      "outputs": [],
      "source": [
        "if model_name == \"CNN\":\n",
        "    # Parameters Setting\n",
        "    batch_size = 64 # 32, 128, 256 \n",
        "    max_epochs = 5\n",
        "    img_size = 36\n",
        "    cnn_aug = False # Use extra augmentation \n",
        "    if cnn_aug:\n",
        "        x_train_vl = x_train_aug.copy()\n",
        "    else:\n",
        "        x_train_vl = x_train.values    \n",
        "    normalize = True\n",
        "    if x_train_vl.max() == 1.0:\n",
        "        x_train_vl = x_train_vl * 255\n",
        "    if normalize:\n",
        "        x_train_vl = x_train_vl / 255.0\n",
        "        \n",
        "    x_train_vl = x_train_vl.astype(float)\n",
        "    x_train_ts = x_train_vl.reshape(x_train_vl.shape[0], 28, 28, 1)\n",
        "    \n",
        "    x_test_vl = x_test.values\n",
        "    if x_test_vl.max() == 1.0:\n",
        "        x_test_vl = x_test_vl * 255\n",
        "    if normalize:\n",
        "        x_test_vl = x_test_vl / 255.0\n",
        "    x_test_vl = x_test_vl.astype(float)\n",
        "    x_test_ts = x_test_vl.reshape(x_test_vl.shape[0], 28, 28, 1)\n",
        "    \n",
        "    if cnn_aug:\n",
        "        y_train_encoded = keras.utils.to_categorical(y_train_label_aug, num_classes)\n",
        "        train_x, validation_x, train_y, validation_y = train_test_split(x_train_ts, y_train_encoded, test_size = 0.1, random_state = SEED)\n",
        "    else:\n",
        "        train_x, validation_x, train_y, validation_y = train_test_split(x_train_ts, y_train, test_size = 0.1, random_state = SEED)\n",
        "\n",
        "    if  not cnn_aug:\n",
        "            datagen = ImageDataGenerator(\n",
        "                featurewise_center=False,  # set input mean to 0 over the dataset\n",
        "                samplewise_center=False,  # set each sample mean to 0\n",
        "                featurewise_std_normalization=False,  # divide inputs by std of the dataset\n",
        "                samplewise_std_normalization=False,  # divide each input by its std\n",
        "                # zca_whitening=True,  # apply ZCA whitening\n",
        "                rotation_range=20,  # randomly rotate images in the range (degrees, 0 to 180)\n",
        "                # zoom_range = [0.7, 1], # Randomly zoom image \n",
        "                # zoom_range = 0.01, # Randomly zoom image \n",
        "                zoom_range = 0.3, # Randomly zoom image \n",
        "                width_shift_range=0.1,  # randomly shift images horizontally (fraction of total width)\n",
        "                height_shift_range=0.1,  # randomly shift images vertically (fraction of total height)\n",
        "                horizontal_flip=False,  # randomly flip images\n",
        "                vertical_flip=False # randomly flip images\n",
        "            )  \n",
        "            train_gen = datagen.flow(train_x, train_y, batch_size=batch_size)\n",
        "            val_gen = datagen.flow(validation_x, validation_y, batch_size=batch_size)\n",
        "\n",
        "    # This function keeps the initial learning rate for the first ten epochs\n",
        "    # and decreases it exponentially after that.\n",
        "    def scheduler(epoch, lr):\n",
        "        if epoch < 10:\n",
        "            return lr\n",
        "        else:\n",
        "            return lr * tf.math.exp(-0.1)\n",
        "\n",
        "    my_callbacks = [\n",
        "        # tf.keras.callbacks.LearningRateScheduler(scheduler),\n",
        "        tf.keras.callbacks.EarlyStopping(patience=25, monitor = \"val_accuracy\", mode = 'max'),\n",
        "        tf.keras.callbacks.ModelCheckpoint('best_model.h5', monitor='val_accuracy', mode='max', verbose=0, save_best_only=True),\n",
        "        tf.keras.callbacks.TensorBoard(log_dir='./logs'),\n",
        "    ]\n",
        "\n",
        "    keras.backend.clear_session() # clear previous cache\n",
        "    # Mode1 - model 3 not used in final report\n",
        "    model1 = keras.models.Sequential([\n",
        "                                    keras.layers.InputLayer(input_shape=(28, 28, 1)),\n",
        "                                    layers.Resizing(img_size, img_size), \n",
        "                                    keras.layers.Conv2D(filters=16, kernel_size=(3,3), \n",
        "                                                        # input_shape=(28, 28, 1), \n",
        "                                                        padding='same', activation=\"relu\"),\n",
        "                                    keras.layers.Conv2D(filters=32, kernel_size=(3,3), padding='same', activation=\"relu\"),\n",
        "                                    keras.layers.MaxPooling2D(),\n",
        "                                    keras.layers.Dropout(0.2),\n",
        "                                    keras.layers.Conv2D(filters=48, kernel_size=(3,3), padding='same', activation=\"relu\"),\n",
        "                                    keras.layers.Conv2D(filters=64, kernel_size=(3,3), padding='same', activation=\"relu\"),\n",
        "                                    keras.layers.Conv2D(filters=128, kernel_size=(3,3), padding='same', activation=\"relu\"),\n",
        "                                    keras.layers.MaxPooling2D(),\n",
        "                                    keras.layers.Dropout(0.2),\n",
        "                                    keras.layers.Flatten(),# flatten layer \n",
        "                                    keras.layers.Dense(units = 128,activation='relu'),  #input layer \n",
        "                                    keras.layers.Dense(units = 64, activation='relu'),  # hidden layer \n",
        "                                    keras.layers.Dropout(0.2),\n",
        "                                    keras.layers.Dense(units = 10, activation='softmax'),# output layer \n",
        "                        ])\n",
        "    model2 = keras.models.Sequential([\n",
        "                                    keras.layers.InputLayer(input_shape=(28, 28, 1)),\n",
        "                                    layers.Resizing(img_size, img_size), \n",
        "                                    keras.layers.Conv2D(filters=32, kernel_size=(3,3), \n",
        "                                                        # input_shape=(28, 28, 1), \n",
        "                                                        padding='same', activation=\"relu\"),\n",
        "                                    keras.layers.BatchNormalization(),\n",
        "                                    keras.layers.Conv2D(filters=32, kernel_size=(3,3), padding='same', activation=\"relu\"),\n",
        "                                    keras.layers.MaxPooling2D(),\n",
        "                                    keras.layers.BatchNormalization(),\n",
        "                                    # keras.layers.Dropout(0.2),\n",
        "                                    keras.layers.Conv2D(filters=64, kernel_size=(3,3), padding='same', activation=\"relu\"),\n",
        "                                    keras.layers.BatchNormalization(),  \n",
        "                                    keras.layers.Conv2D(filters=64, kernel_size=(3,3), padding='same', activation=\"relu\"),\n",
        "                                    keras.layers.MaxPooling2D(),\n",
        "                                    keras.layers.BatchNormalization(),\n",
        "                                    # keras.layers.Dropout(0.2),\n",
        "                                    keras.layers.Conv2D(filters=128, kernel_size=(3,3), padding='same', activation=\"relu\"),\n",
        "                                    keras.layers.BatchNormalization(),\n",
        "                                    keras.layers.Conv2D(filters=128, kernel_size=(3,3), padding='same', activation=\"relu\"),\n",
        "                                    keras.layers.MaxPooling2D(),\n",
        "                                    keras.layers.BatchNormalization(),\n",
        "                                    # keras.layers.Dropout(0.2),\n",
        "                                    keras.layers.Flatten(),# flatten layer \n",
        "                                    keras.layers.Dense(units = 256,activation='relu'),  #input layer \n",
        "                                    # keras.layers.Dense(units = 64, activation='relu'),  # hidden layer \n",
        "                                    keras.layers.BatchNormalization(),\n",
        "                                    # keras.layers.Dropout(0.2),\n",
        "                                    keras.layers.Dense(units = 10, activation='softmax'),# output layer \n",
        "                        ])\n",
        "    model3 = keras.models.Sequential([\n",
        "                                    keras.layers.InputLayer(input_shape=(28, 28, 1)),\n",
        "                                    layers.Resizing(img_size, img_size), \n",
        "                                    keras.layers.Conv2D(filters=32, kernel_size=(3,3), \n",
        "                                                        # input_shape=(28, 28, 1), \n",
        "                                                        padding='same', activation=\"relu\"),\n",
        "                                    keras.layers.Conv2D(filters=32, kernel_size=(3,3), padding='same', activation=\"relu\"),\n",
        "                                    # keras.layers.Conv2D(filters=32, kernel_size=(3,3), padding='same', activation=\"relu\"),\n",
        "                                    keras.layers.MaxPooling2D(),\n",
        "                                    keras.layers.Dropout(0.2),\n",
        "                                    keras.layers.Conv2D(filters=64, kernel_size=(3,3), padding='same', activation=\"relu\"),\n",
        "                                    keras.layers.Conv2D(filters=64, kernel_size=(3,3), padding='same', activation=\"relu\"),\n",
        "                                    # keras.layers.Conv2D(filters=64, kernel_size=(3,3), padding='same', activation=\"relu\"),\n",
        "                                    keras.layers.MaxPooling2D(),\n",
        "                                    keras.layers.Dropout(0.2),\n",
        "                                    keras.layers.Conv2D(filters=128, kernel_size=(3,3), padding='same', activation=\"relu\"),\n",
        "                                    keras.layers.Conv2D(filters=128, kernel_size=(3,3), padding='same', activation=\"relu\"),\n",
        "                                    # keras.layers.Conv2D(filters=128, kernel_size=(3,3), padding='same', activation=\"relu\"),\n",
        "                                    keras.layers.MaxPooling2D(),\n",
        "                                    keras.layers.Dropout(0.2),\n",
        "                                    # keras.layers.Conv2D(filters=256, kernel_size=(3,3), padding='same', activation=\"relu\"),\n",
        "                                    # keras.layers.Conv2D(filters=256, kernel_size=(3,3), padding='same', activation=\"relu\"),\n",
        "                                    # keras.layers.Conv2D(filters=128, kernel_size=(3,3), padding='same', activation=\"relu\"),\n",
        "                                    keras.layers.MaxPooling2D(),\n",
        "                                    keras.layers.Dropout(0.2),\n",
        "                                    keras.layers.Flatten(),# flatten layer \n",
        "                                    keras.layers.Dense(units = 256,activation='relu'),  \n",
        "                                    # keras.layers.Dense(units = 64, activation='relu'),  \n",
        "                                    keras.layers.Dropout(0.2),\n",
        "                                    # kernel_regularizer=l2(0.01)\n",
        "                                    keras.layers.Dense(units = 10, activation='softmax'),# output layer \n",
        "                        ])\n",
        "    model4 = M3()\n",
        "    model5 = M5()\n",
        "    model6 = M7()\n",
        "    ensemble_flag = True\n",
        "    rms = tf.keras.optimizers.RMSprop(learning_rate=0.001, momentum=0.9, epsilon=0.1)\n",
        "    sgd = keras.optimizers.SGD(lr=0.001, decay=1e-6, momentum=0.9, nesterov=True)\n",
        "    adam = keras.optimizers.Adam(learning_rate=0.001, decay = 1e-6)\n",
        "    \n",
        "    names = [\"M3\", \"M5\", \"M7\"]\n",
        "    checkpoint_path = 'tmp/checkpoint'\n",
        "    if ensemble_flag:\n",
        "        models = [model4, model5, model6]\n",
        "        for i in range(len(models)):\n",
        "            keras.backend.clear_session()\n",
        "            opt_ensemble = rms\n",
        "            best_model_str = names[i] + \".h5\"\n",
        "            new_callbacks = [\n",
        "                tf.keras.callbacks.EarlyStopping(patience=25, monitor = \"val_accuracy\", mode = 'max'),\n",
        "                tf.keras.callbacks.ModelCheckpoint(checkpoint_path, monitor='val_accuracy', mode='max', verbose=0, save_best_only=True),\n",
        "                tf.keras.callbacks.TensorBoard(log_dir='./logs'),\n",
        "            ]\n",
        "            if names[i] == 'M7':\n",
        "                opt_ensemble = adam\n",
        "            models[i].compile(\n",
        "                loss=\"categorical_crossentropy\",\n",
        "                optimizer=opt_ensemble,\n",
        "                # optimizer = 'adam',\n",
        "                metrics=[\"accuracy\"]\n",
        "            )\n",
        "            print(\"### Start Training \" + names[i])\n",
        "            train_steps = train_x.shape[0] // batch_size\n",
        "            valid_steps = validation_x.shape[0] // batch_size\n",
        "            history = models[i].fit_generator(train_gen, \n",
        "                        epochs = max_epochs, \n",
        "                        verbose = 1,\n",
        "                        steps_per_epoch = train_steps,\n",
        "                        validation_data = val_gen,\n",
        "                        validation_steps = valid_steps, \n",
        "                    callbacks=new_callbacks)\n",
        "            models[i] = load_model(checkpoint_path)\n",
        "            print(\"======================================\")\n",
        "            print(\"### Test Result: \")\n",
        "            models[i].evaluate(x_test_ts, y_test)\n",
        "    else:\n",
        "        model = model5\n",
        "        model.compile(\n",
        "            loss=\"categorical_crossentropy\",\n",
        "            optimizer=rms,\n",
        "            # optimizer = 'adam',\n",
        "            metrics=[\"accuracy\"]\n",
        "        )\n",
        "        print(\"### Start Training\")\n",
        "        # model.build(train_x.shape)\n",
        "        # model.summary() \n",
        "        if cnn_aug:\n",
        "            history = model.fit(\n",
        "                train_x, train_y, batch_size = batch_size, epochs = max_epochs, verbose = 1,\n",
        "                validation_data = (validation_x, validation_y),\n",
        "                callbacks = my_callbacks\n",
        "                )\n",
        "        else:\n",
        "            train_steps = train_x.shape[0] // batch_size\n",
        "            valid_steps = validation_x.shape[0] // batch_size\n",
        "            history = model.fit_generator(train_gen, \n",
        "                        epochs = max_epochs, \n",
        "                        verbose = 1,\n",
        "                        steps_per_epoch = train_steps,\n",
        "                        validation_data = val_gen,\n",
        "                        validation_steps = valid_steps, \n",
        "                        callbacks=my_callbacks)\n",
        "        # plot training history\n",
        "        model.summary()\n",
        "        model = load_model('best_model.h5')\n",
        "    \n",
        "        pd.DataFrame(history.history).plot()\n",
        "        print(\"======================================\")\n",
        "        print(\"### Test Result: \")\n",
        "        model.evaluate(x_test_ts, y_test)"
      ]
    },
    {
      "cell_type": "code",
      "source": [
        "    # Optimizer\n",
        "    #   ema = tf.train.ExponentialMovingAverage(decay=0.50,name='EMA')\n",
        "    #       total_steps = int((len(x_train_vl) / batch_size) * num_epochs)\n",
        "    #   warmup_epoch_percentage = 0.10\n",
        "    #   warmup_steps = int(total_steps * warmup_epoch_percentage)\n",
        "    #   scheduled_lrs = WarmUpCosine(\n",
        "    #       learning_rate_base=learning_rate,\n",
        "    #       total_steps=total_steps,\n",
        "    #       warmup_learning_rate=0.0,\n",
        "    #       warmup_steps=warmup_steps,\n",
        "    #   )\n",
        "    # optimizer = tfa.optimizers.AdamW(\n",
        "    #     learning_rate=learning_rate, weight_decay=weight_decay\n",
        "    # )\n",
        "\n",
        "\n",
        "    # plt.plot(history.history['accuracy'], label='train')\n",
        "    # plt.plot(history.history['val_accuracy'], label='validation')\n",
        "    # plt.legend()\n",
        "    # plt.show()"
      ],
      "metadata": {
        "id": "WuEAUS0PDAWm"
      },
      "execution_count": null,
      "outputs": []
    },
    {
      "cell_type": "code",
      "source": [
        "# print(\"My Custom CNN Network:\")\n",
        "# plot_model(model_cnn(), to_file='custom-cnn.png', show_shapes=True, show_layer_names=True)"
      ],
      "metadata": {
        "id": "5A8euIBFFE_l"
      },
      "execution_count": null,
      "outputs": []
    },
    {
      "cell_type": "code",
      "source": [
        "# Evaluate ensemble models with hard voting or soft voting \n",
        "def voting_evaluate(soft_voting, input, target, models, names):\n",
        "    if soft_voting:\n",
        "        probs = np.zeros((len(y_test), 10), dtype= float)\n",
        "        for i in range(len(models)):\n",
        "            print(\"Model: \" + names[i])\n",
        "            probs = probs + models[i].predict(input)\n",
        "            models[i].evaluate(input, target)\n",
        "        y_voting = probs.argmax(axis = 1)\n",
        "    else:\n",
        "        # Predict labels with models\n",
        "        labels = []\n",
        "        for i in range(len(models)):\n",
        "            print(\"Model: \" + names[i])\n",
        "            y_pred = np.argmax(models[i].predict(input), axis=1)\n",
        "            models[i].evaluate(input, target)\n",
        "            labels.append(y_pred)\n",
        "        # Ensemble with hard voting\n",
        "        labels = np.array(labels)\n",
        "        labels = np.transpose(labels)\n",
        "        y_voting = np.zeros(labels.shape[0])\n",
        "        for i in range(len(y_voting)):\n",
        "            vals,counts = np.unique(labels[i], return_counts=True)\n",
        "            index = np.argmax(counts)\n",
        "            if counts[index] == 1:\n",
        "                y_voting[i] = labels[i][np.random.choice(range(labels[i].shape[0]))] # randomly takes one if the three models vote on different class,\n",
        "            else:\n",
        "                y_voting[i] = vals[index]\n",
        "    # Output results\n",
        "    print(\"Accuracy: %.4f\" % accuracy_score(y_voting, target.argmax(axis = 1)))\n",
        "    return y_voting"
      ],
      "metadata": {
        "id": "cw9XVjFx7VdY"
      },
      "execution_count": null,
      "outputs": []
    },
    {
      "cell_type": "code",
      "source": [
        "voting_evaluate(False, x_test_ts, y_test, models, names)"
      ],
      "metadata": {
        "colab": {
          "base_uri": "https://localhost:8080/"
        },
        "id": "RMn2yzQf-GIN",
        "outputId": "f2659a38-6ce5-4ebb-80aa-896711375501"
      },
      "execution_count": null,
      "outputs": [
        {
          "output_type": "stream",
          "name": "stdout",
          "text": [
            "Model: M3\n",
            "63/63 [==============================] - 1s 9ms/step - loss: 1.2806 - accuracy: 0.5795\n",
            "Model: M5\n",
            "63/63 [==============================] - 0s 6ms/step - loss: 1.6731 - accuracy: 0.4450\n",
            "Model: M7\n",
            "63/63 [==============================] - 1s 8ms/step - loss: 7.6169 - accuracy: 0.1910\n",
            "Accuracy: 0.4485\n"
          ]
        },
        {
          "output_type": "execute_result",
          "data": {
            "text/plain": [
              "array([0., 0., 6., ..., 8., 8., 8.])"
            ]
          },
          "metadata": {},
          "execution_count": 24
        }
      ]
    },
    {
      "cell_type": "markdown",
      "metadata": {
        "id": "c8H24_NrGoX8"
      },
      "source": [
        "### Vision Transformer\n",
        "<br /> Modified from: https://keras.io/examples/vision/image_classification_with_vision_transformer/"
      ]
    },
    {
      "cell_type": "markdown",
      "metadata": {
        "id": "5NZs0cLsO6hm"
      },
      "source": [
        "Result: \n",
        "Epoch = 20, Accu: % <br/>\n",
        "\n",
        "Epoch = , Accu: "
      ]
    },
    {
      "cell_type": "code",
      "execution_count": null,
      "metadata": {
        "id": "1KX_-LzY1qyG"
      },
      "outputs": [],
      "source": [
        "if model_name == \"ViT\":\n",
        "  ### Setting parameters \n",
        "  learning_rate = 0.001\n",
        "  weight_decay = 0.0001\n",
        "  batch_size = 32 # Remain to be changed \n",
        "  num_epochs = 20\n",
        "  input_size = 28\n",
        "  image_size = 72  # We'll resize input images to this size\n",
        "  patch_size = 6  # Size of the patches to be extract from the input images\n",
        "  num_patches = (image_size // patch_size) ** 2\n",
        "  projection_dim = 64\n",
        "  num_heads = 4\n",
        "  transformer_units = [\n",
        "      projection_dim * 2,\n",
        "      projection_dim,\n",
        "  ]  # Size of the transformer layers\n",
        "  transformer_layers = 8\n",
        "  mlp_head_units = [2048, 1024]  # Size of the dense layers of the final classifier\n",
        "  input_shape = [input_size, input_size, 1]\n",
        "\n",
        "  ### Data augmentation \n",
        "  vit_data_augmentation = keras.Sequential(\n",
        "    [\n",
        "        keras.layers.Input(input_shape),\n",
        "        layers.Rescaling(1./255.0),\n",
        "        layers.Normalization(), \n",
        "        # layers.RandomFlip(\"horizontal\"),\n",
        "        keras.layers.experimental.preprocessing.Resizing(image_size, image_size),\n",
        "        layers.RandomRotation(factor=0.02), # minor improvement, 0.86 -> 0.88(only for dataset 1)\n",
        "        layers.RandomZoom(\n",
        "            height_factor=0.2, width_factor=0.2 # Minor improvement for dataset 0\n",
        "        ),\n",
        "    ],\n",
        "    name=\"data_augmentation\",\n",
        "  )\n",
        "  ### Implement the multilayer perceptron \n",
        "  def mlp(x, hidden_units, dropout_rate):\n",
        "    for units in hidden_units:\n",
        "        x = layers.Dense(units, activation=tf.nn.gelu)(x)\n",
        "        x = layers.Dropout(dropout_rate)(x)\n",
        "    return x\n",
        "  #### Implement patch creation as a layer \n",
        "  class Patches(layers.Layer):\n",
        "    def __init__(self, patch_size):\n",
        "        super(Patches, self).__init__()\n",
        "        self.patch_size = patch_size\n",
        "\n",
        "    def call(self, images):\n",
        "        batch_size = tf.shape(images)[0]\n",
        "        patches = tf.image.extract_patches(\n",
        "            images=images,\n",
        "            sizes=[1, self.patch_size, self.patch_size, 1],\n",
        "            strides=[1, self.patch_size, self.patch_size, 1],\n",
        "            rates=[1, 1, 1, 1],\n",
        "            padding=\"VALID\",\n",
        "        )\n",
        "        patch_dims = patches.shape[-1]\n",
        "        patches = tf.reshape(patches, [batch_size, -1, patch_dims])\n",
        "        return patches\n",
        "\n",
        "  # Training set\n",
        "  x_train_vl = x_train.values\n",
        "  x_train_vl = x_train_vl.reshape(x_train_vl.shape[0], 28, 28, 1)\n",
        "\n",
        "  ind_list = [list(range(x_train_vl.shape[0]))]\n",
        "  shuffle(ind_list)\n",
        "  x_train_shuffle  =x_train_vl[ind_list, :,:,:]\n",
        "  y_train = y_train.values[ind_list,]\n",
        "  # Test set \n",
        "  x_test_vl = x_test.values\n",
        "  x_test_vl = x_test_vl.reshape(x_test_vl.shape[0], 28, 28, 1)\n",
        "  ### Inspect on the patched image\n",
        "  plt.figure(figsize=(4, 4))\n",
        "  image = x_train_vl[np.random.choice(range(x_train_vl.shape[0]))]\n",
        "  image = image.reshape(28, 28, 1)\n",
        "  plt.imshow(image[:,:,0].astype(\"uint8\"), cmap = 'gray')\n",
        "  plt.axis(\"off\")\n",
        "\n",
        "  resized_image = tf.image.resize(\n",
        "      tf.convert_to_tensor([image]), size=(image_size, image_size)\n",
        "  )\n",
        "  patches = Patches(patch_size)(resized_image)\n",
        "  print(f\"Image size: {image_size} X {image_size}\")\n",
        "  print(f\"Patch size: {patch_size} X {patch_size}\")\n",
        "  print(f\"Patches per image: {patches.shape[1]}\")\n",
        "  print(f\"Elements per patch: {patches.shape[-1]}\")\n",
        "\n",
        "  n = int(np.sqrt(patches.shape[1]))\n",
        "  plt.figure(figsize=(4, 4))\n",
        "  for i, patch in enumerate(patches[0]):\n",
        "      ax = plt.subplot(n, n, i + 1)\n",
        "      patch_img = tf.reshape(patch, (patch_size, patch_size, 1))\n",
        "      plt.imshow(patch_img.numpy()[:,:,0].astype(\"uint8\"), cmap = 'gray')\n",
        "      plt.axis(\"off\")\n",
        "  \"\"\"\n",
        "  ## Implement the patch encoding layer\n",
        "\n",
        "  The `PatchEncoder` layer will linearly transform a patch by projecting it into a\n",
        "  vector of size `projection_dim`. In addition, it adds a learnable position\n",
        "  embedding to the projected vector.\n",
        "  \"\"\"\n",
        "  class PatchEncoder(layers.Layer):\n",
        "    def __init__(self, num_patches, projection_dim):\n",
        "        super(PatchEncoder, self).__init__()\n",
        "        self.num_patches = num_patches\n",
        "        self.projection = layers.Dense(units=projection_dim)\n",
        "        self.position_embedding = layers.Embedding(\n",
        "            input_dim=num_patches, output_dim=projection_dim\n",
        "        )\n",
        "\n",
        "    def call(self, patch):\n",
        "        positions = tf.range(start=0, limit=self.num_patches, delta=1)\n",
        "        encoded = self.projection(patch) + self.position_embedding(positions)\n",
        "        return encoded\n"
      ]
    },
    {
      "cell_type": "markdown",
      "metadata": {
        "id": "IaNzb8pO3tlt"
      },
      "source": [
        "#### Build the ViT model\n",
        "\n",
        "The ViT model consists of multiple Transformer blocks,\n",
        "which use the `layers.MultiHeadAttention` layer as a self-attention mechanism\n",
        "applied to the sequence of patches. The Transformer blocks produce a\n",
        "`[batch_size, num_patches, projection_dim]` tensor, which is processed via an\n",
        "classifier head with softmax to produce the final class probabilities output.\n",
        "\n",
        "Unlike the technique described in the [paper](https://arxiv.org/abs/2010.11929),\n",
        "which prepends a learnable embedding to the sequence of encoded patches to serve\n",
        "as the image representation, all the outputs of the final Transformer block are\n",
        "reshaped with `layers.Flatten()` and used as the image\n",
        "representation input to the classifier head.\n",
        "Note that the `layers.GlobalAveragePooling1D` layer\n",
        "could also be used instead to aggregate the outputs of the Transformer block,\n",
        "especially when the number of patches and the projection dimensions are large."
      ]
    },
    {
      "cell_type": "code",
      "execution_count": null,
      "metadata": {
        "id": "daKVR6gF3tlt"
      },
      "outputs": [],
      "source": [
        "\n",
        "def create_vit_classifier():\n",
        "    inputs = layers.Input(shape=input_shape)\n",
        "    # Augment data.\n",
        "    augmented = vit_data_augmentation(inputs)\n",
        "    # Create patches.\n",
        "    patches = Patches(patch_size)(augmented)\n",
        "    # Encode patches.\n",
        "    encoded_patches = PatchEncoder(num_patches, projection_dim)(patches)\n",
        "\n",
        "    # Create multiple layers of the Transformer block.\n",
        "    for _ in range(transformer_layers):\n",
        "        # Layer normalization 1.\n",
        "        x1 = layers.LayerNormalization(epsilon=1e-6)(encoded_patches)\n",
        "        # Create a multi-head attention layer.\n",
        "        attention_output = layers.MultiHeadAttention(\n",
        "            num_heads=num_heads, key_dim=projection_dim, dropout=0.1\n",
        "        )(x1, x1)\n",
        "        # Skip connection 1.\n",
        "        x2 = layers.Add()([attention_output, encoded_patches])\n",
        "        # Layer normalization 2.\n",
        "        x3 = layers.LayerNormalization(epsilon=1e-6)(x2)\n",
        "        # MLP.\n",
        "        x3 = mlp(x3, hidden_units=transformer_units, dropout_rate=0.1)\n",
        "        # Skip connection 2.\n",
        "        encoded_patches = layers.Add()([x3, x2])\n",
        "\n",
        "    # Create a [batch_size, projection_dim] tensor.\n",
        "    representation = layers.LayerNormalization(epsilon=1e-6)(encoded_patches)\n",
        "    representation = layers.Flatten()(representation)\n",
        "    representation = layers.Dropout(0.5)(representation)\n",
        "    # Add MLP.\n",
        "    features = mlp(representation, hidden_units=mlp_head_units, dropout_rate=0.5)\n",
        "    # Classify outputs.\n",
        "    logits = layers.Dense(num_classes)(features)\n",
        "    # Create the Keras model.\n",
        "    model = keras.Model(inputs=inputs, outputs=logits)\n",
        "    return model\n"
      ]
    },
    {
      "cell_type": "markdown",
      "metadata": {
        "id": "h5L6BtCM3tlu"
      },
      "source": [
        "#### Compile, train, and evaluate the mode"
      ]
    },
    {
      "cell_type": "code",
      "execution_count": null,
      "metadata": {
        "id": "0Q6jYwtMIPNw"
      },
      "outputs": [],
      "source": [
        "if model_name == \"ViT\":\n",
        "  keras.backend.clear_session()\n",
        "  vit_classifier = create_vit_classifier()\n",
        "  # vit_classifier.summary()"
      ]
    },
    {
      "cell_type": "code",
      "execution_count": null,
      "metadata": {
        "id": "E31SVdSl3tlu"
      },
      "outputs": [],
      "source": [
        "\n",
        "def run_vit_experiment(model):\n",
        "    optimizer = tfa.optimizers.AdamW(\n",
        "        learning_rate=learning_rate, weight_decay=weight_decay\n",
        "    )\n",
        "\n",
        "    model.compile(\n",
        "        optimizer=optimizer,\n",
        "        loss=keras.losses.CategoricalCrossentropy(from_logits=True), ### ???? change to CategoricalCrossentropy\n",
        "        metrics=[\n",
        "            keras.metrics.CategoricalAccuracy(name=\"accuracy\"),\n",
        "            keras.metrics.TopKCategoricalAccuracy(5, name=\"top-5-accuracy\"),\n",
        "        ],\n",
        "    )\n",
        "\n",
        "    checkpoint_filepath = \"/tmp/checkpoint\"\n",
        "    # checkpoint_filepath = \"model.5h\"\n",
        "    checkpoint_callback = keras.callbacks.ModelCheckpoint(\n",
        "        checkpoint_filepath,\n",
        "        monitor=\"val_accuracy\",\n",
        "        save_best_only=True,\n",
        "        save_weights_only=True,\n",
        "    )\n",
        "\n",
        "    train_x, validation_x, train_y, validation_y = train_test_split(x_train_vl, y_train, test_size = 0.1, random_state = SEED)\n",
        "    history = model.fit(\n",
        "        x=train_x,\n",
        "        y=train_y,\n",
        "        batch_size=batch_size,\n",
        "        epochs=num_epochs,\n",
        "        # validation_split = 0.1,\n",
        "        validation_data = (validation_x, validation_y),\n",
        "        callbacks=[checkpoint_callback]\n",
        "    )\n",
        "\n",
        "    model.load_weights(checkpoint_filepath)\n",
        "    _, accuracy, top_5_accuracy = model.evaluate(x_test_vl, y_test)\n",
        "    print(f\"Test accuracy: {round(accuracy * 100, 2)}%\")\n",
        "    print(f\"Test top 5 accuracy: {round(top_5_accuracy * 100, 2)}%\")\n",
        "\n",
        "    return model, history\n",
        "\n",
        "if model_name == \"ViT\":\n",
        "  vit_classifier = create_vit_classifier()\n",
        "  model, history = run_vit_experiment(vit_classifier)\n"
      ]
    },
    {
      "cell_type": "markdown",
      "metadata": {
        "id": "hntrl8bS3tlu"
      },
      "source": [
        "After 100 epochs, the ViT model achieves around 55% accuracy and\n",
        "82% top-5 accuracy on the test data. These are not competitive results on the CIFAR-100 dataset,\n",
        "as a ResNet50V2 trained from scratch on the same data can achieve 67% accuracy.\n",
        "\n",
        "Note that the state of the art results reported in the\n",
        "[paper](https://arxiv.org/abs/2010.11929) are achieved by pre-training the ViT model using\n",
        "the JFT-300M dataset, then fine-tuning it on the target dataset. To improve the model quality\n",
        "without pre-training, you can try to train the model for more epochs, use a larger number of\n",
        "Transformer layers, resize the input images, change the patch size, or increase the projection dimensions. \n",
        "Besides, as mentioned in the paper, the quality of the model is affected not only by architecture choices, \n",
        "but also by parameters such as the learning rate schedule, optimizer, weight decay, etc.\n",
        "In practice, it's recommended to fine-tune a ViT model\n",
        "that was pre-trained using a large, high-resolution dataset."
      ]
    },
    {
      "cell_type": "markdown",
      "metadata": {
        "id": "yQ_rpGoU4Uoj"
      },
      "source": [
        "### Vision Transformer for small-size data set\n",
        "<br /> Modified from: https://keras.io/examples/vision/image_classification_with_vision_transformer/\n",
        "https://keras.io/examples/vision/vit_small_ds/\n",
        "\n"
      ]
    },
    {
      "cell_type": "markdown",
      "metadata": {
        "id": "J14BmrHp4Uoq"
      },
      "source": [
        "Result: \n",
        "Epoch = 50, Batch size = 64, Accu: 95%, 78% on  challenge test <br/>\n",
        "\n",
        "Epoch = , Accu: "
      ]
    },
    {
      "cell_type": "code",
      "execution_count": null,
      "metadata": {
        "id": "wzDUZ-kg43uV"
      },
      "outputs": [],
      "source": [
        "if model_name == \"ViT_SPT\":\n",
        "  ### Setting parameters \n",
        "  # Data \n",
        "  buffer_size = 512\n",
        "  batch_size = 64 # Remain to be changed \n",
        "  input_size = 28\n",
        "  input_shape = [input_size, input_size, 1]\n",
        "\n",
        "\n",
        "  # Augmentation \n",
        "  image_size = 72  # We'll resize input images to this size\n",
        "  patch_size = 6  # Size of the patches to be extract from the input images\n",
        "  num_patches = (image_size // patch_size) ** 2\n",
        "\n",
        "  # Optimizer \n",
        "  learning_rate = 0.001\n",
        "  weight_decay = 0.0001\n",
        "\n",
        "  ## Training\n",
        "  num_epochs = 50\n",
        "\n",
        "  # Architecture\n",
        "  layer_norm_eps = 1e-6\n",
        "  projection_dim = 64\n",
        "  num_heads = 4\n",
        "  transformer_units = [\n",
        "      projection_dim * 2,\n",
        "      projection_dim,\n",
        "  ]  # Size of the transformer layers\n",
        "  transformer_layers = 8\n",
        "  mlp_head_units = [2048, 1024]  # Size of the dense layers of the final classifier\n"
      ]
    },
    {
      "cell_type": "code",
      "execution_count": null,
      "metadata": {
        "id": "bQH6S6V446Xa"
      },
      "outputs": [],
      "source": [
        "if model_name == \"ViT_SPT\":\n",
        "   ### Data augmentation \n",
        "  vit_spt_data_augmentation = keras.Sequential(\n",
        "    [\n",
        "        keras.layers.Input(input_shape),\n",
        "        layers.Rescaling(1./255.0),\n",
        "        layers.Normalization(), \n",
        "        layers.RandomFlip(\"horizontal\"),\n",
        "        keras.layers.experimental.preprocessing.Resizing(image_size, image_size),\n",
        "        layers.RandomRotation(factor=0.02), # minor improvement, 0.86 -> 0.88(only for dataset 1)\n",
        "        layers.RandomZoom(\n",
        "            height_factor=0.2, width_factor=0.2 # Minor improvement for dataset 0\n",
        "        ),\n",
        "    ],\n",
        "    name=\"data_augmentation\",\n",
        "  )\n",
        "\n",
        "  # Compute the mean and the variance of the training data for normalization.\n",
        "  # https://www.tensorflow.org/api_docs/python/tf/keras/layers/Normalization\n",
        "  # data_augmentation.layers[0].adapt(x_train)"
      ]
    },
    {
      "cell_type": "markdown",
      "metadata": {
        "id": "ttjrlNNt8Aan"
      },
      "source": [
        "#### Implement Shifted Patch Tokenization\n",
        "\n",
        "In a ViT pipeline, the input images are divided into patches that are\n",
        "then linearly projected into tokens. Shifted patch tokenization (STP)\n",
        "is introduced to combat the low receptive field of ViTs. The steps\n",
        "for Shifted Patch Tokenization are as follows:\n",
        "\n",
        "- Start with an image.\n",
        "- Shift the image in diagonal directions.\n",
        "- Concat the diagonally shifted images with the original image.\n",
        "- Extract patches of the concatenated images.\n",
        "- Flatten the spatial dimension of all patches.\n",
        "- Layer normalize the flattened patches and then project it.\n",
        "\n",
        "| ![Shifted Patch Toekenization](https://i.imgur.com/bUnHxd0.png) |\n",
        "| :--: |\n",
        "| Shifted Patch Tokenization [Source](https://arxiv.org/abs/2112.13492v1) |"
      ]
    },
    {
      "cell_type": "code",
      "execution_count": null,
      "metadata": {
        "id": "5_PJz4_67_aw"
      },
      "outputs": [],
      "source": [
        "if model_name == \"ViT_SPT\":\n",
        "  class ShiftedPatchTokenization(layers.Layer):\n",
        "      def __init__(\n",
        "          self,\n",
        "          image_size= image_size,\n",
        "          patch_size= patch_size,\n",
        "          num_patches= num_patches,\n",
        "          projection_dim= projection_dim,\n",
        "          vanilla=False,\n",
        "          **kwargs,\n",
        "      ):\n",
        "          super().__init__(**kwargs)\n",
        "          self.vanilla = vanilla  # Flag to swtich to vanilla patch extractor\n",
        "          self.image_size = image_size\n",
        "          self.patch_size = patch_size\n",
        "          self.half_patch = patch_size // 2\n",
        "          self.flatten_patches = layers.Reshape((num_patches, -1))\n",
        "          self.projection = layers.Dense(units=projection_dim)\n",
        "          self.layer_norm = layers.LayerNormalization(epsilon=layer_norm_eps)\n",
        "\n",
        "      def crop_shift_pad(self, images, mode):\n",
        "          # Build the diagonally shifted images\n",
        "          if mode == \"left-up\":\n",
        "              crop_height = self.half_patch\n",
        "              crop_width = self.half_patch\n",
        "              shift_height = 0\n",
        "              shift_width = 0\n",
        "          elif mode == \"left-down\":\n",
        "              crop_height = 0\n",
        "              crop_width = self.half_patch\n",
        "              shift_height = self.half_patch\n",
        "              shift_width = 0\n",
        "          elif mode == \"right-up\":\n",
        "              crop_height = self.half_patch\n",
        "              crop_width = 0\n",
        "              shift_height = 0\n",
        "              shift_width = self.half_patch\n",
        "          else:\n",
        "              crop_height = 0\n",
        "              crop_width = 0\n",
        "              shift_height = self.half_patch\n",
        "              shift_width = self.half_patch\n",
        "\n",
        "          # Crop the shifted images and pad them\n",
        "          crop = tf.image.crop_to_bounding_box(\n",
        "              images,\n",
        "              offset_height=crop_height,\n",
        "              offset_width=crop_width,\n",
        "              target_height=self.image_size - self.half_patch,\n",
        "              target_width=self.image_size - self.half_patch,\n",
        "          )\n",
        "          shift_pad = tf.image.pad_to_bounding_box(\n",
        "              crop,\n",
        "              offset_height=shift_height,\n",
        "              offset_width=shift_width,\n",
        "              target_height=self.image_size,\n",
        "              target_width=self.image_size,\n",
        "          )\n",
        "          return shift_pad\n",
        "\n",
        "      def call(self, images):\n",
        "          if not self.vanilla:\n",
        "              # Concat the shifted images with the original image\n",
        "              images = tf.concat(\n",
        "                  [\n",
        "                      images,\n",
        "                      self.crop_shift_pad(images, mode=\"left-up\"),\n",
        "                      self.crop_shift_pad(images, mode=\"left-down\"),\n",
        "                      self.crop_shift_pad(images, mode=\"right-up\"),\n",
        "                      self.crop_shift_pad(images, mode=\"right-down\"),\n",
        "                  ],\n",
        "                  axis=-1,\n",
        "              )\n",
        "          # Patchify the images and flatten it\n",
        "          patches = tf.image.extract_patches(\n",
        "              images=images,\n",
        "              sizes=[1, self.patch_size, self.patch_size, 1],\n",
        "              strides=[1, self.patch_size, self.patch_size, 1],\n",
        "              rates=[1, 1, 1, 1],\n",
        "              padding=\"VALID\",\n",
        "          )\n",
        "          flat_patches = self.flatten_patches(patches)\n",
        "          if not self.vanilla:\n",
        "              # Layer normalize the flat patches and linearly project it\n",
        "              tokens = self.layer_norm(flat_patches)\n",
        "              tokens = self.projection(tokens)\n",
        "          else:\n",
        "              # Linearly project the flat patches\n",
        "              tokens = self.projection(flat_patches)\n",
        "          return (tokens, patches)\n"
      ]
    },
    {
      "cell_type": "code",
      "execution_count": null,
      "metadata": {
        "id": "zjC4HKhb48jD"
      },
      "outputs": [],
      "source": [
        "if model_name == \"ViT_SPT\":  \n",
        "  \"\"\"\n",
        "  ## Implement the patch encoding layer\n",
        "\n",
        "  This layer accepts projected patches and then adds positional\n",
        "  information to them.\n",
        "  \"\"\"\n",
        "  # class PatchEncoder(layers.Layer):\n",
        "  #   def __init__(self, num_patches, projection_dim):\n",
        "  #       super(PatchEncoder, self).__init__()\n",
        "  #       self.num_patches = num_patches\n",
        "  #       self.projection = layers.Dense(units=projection_dim)\n",
        "  #       self.position_embedding = layers.Embedding(\n",
        "  #           input_dim=num_patches, output_dim=projection_dim\n",
        "  #       )\n",
        "\n",
        "  #   def call(self, patch):\n",
        "  #       positions = tf.range(start=0, limit=self.num_patches, delta=1)\n",
        "  #       encoded = self.projection(patch) + self.position_embedding(positions)\n",
        "  #       return encoded\n",
        "  class PatchEncoder(layers.Layer):\n",
        "      def __init__(\n",
        "          self, num_patches=num_patches, \n",
        "          projection_dim= projection_dim, **kwargs\n",
        "      ):\n",
        "          super().__init__(**kwargs)\n",
        "          self.num_patches = num_patches\n",
        "          self.position_embedding = layers.Embedding(\n",
        "              input_dim=num_patches, output_dim=projection_dim\n",
        "          )\n",
        "          self.positions = tf.range(start=0, limit=self.num_patches, delta=1)\n",
        "\n",
        "      def call(self, encoded_patches):\n",
        "          encoded_patches = encoded_patches + self.position_embedding(self.positions)\n",
        "          return encoded_patches"
      ]
    },
    {
      "cell_type": "code",
      "execution_count": null,
      "metadata": {
        "id": "GBaAsWwC5NLG"
      },
      "outputs": [],
      "source": [
        "if model_name == \"ViT_SPT\":\n",
        "  # x_train_vl = x_train.values\n",
        "  # x_train_vl = x_train_vl.reshape(x_train_vl.shape[0], 28, 28, 1)\n",
        "\n",
        "  # x_test_vl = x_test.values\n",
        "  # x_test_vl = x_test_vl.reshape(x_test_vl.shape[0], 28, 28, 1)\n",
        "\n",
        "  x_train_vl = x_train_aug.copy()\n",
        "  x_train_vl = x_train_vl.reshape(x_train_vl.shape[0], 28, 28, 1)\n",
        "\n",
        "  x_test_vl = x_test.values\n",
        "  x_test_vl = x_test_vl.reshape(x_test_vl.shape[0], 28, 28, 1)"
      ]
    },
    {
      "cell_type": "code",
      "execution_count": null,
      "metadata": {
        "id": "lA5SC0luLxwy"
      },
      "outputs": [],
      "source": [
        ""
      ]
    },
    {
      "cell_type": "markdown",
      "metadata": {
        "id": "uailCAGZBhhI"
      },
      "source": [
        "#### Visualize the patches"
      ]
    },
    {
      "cell_type": "code",
      "execution_count": null,
      "metadata": {
        "id": "3FRsSZCL4Uoq"
      },
      "outputs": [],
      "source": [
        "if model_name == \"ViT_SPT\":\n",
        "  # Get a random image from the training dataset\n",
        "  # and resize the image\n",
        "  plt.figure(figsize=(4, 4))\n",
        "  image = x_train_vl[np.random.choice(range(x_train_vl.shape[0]))]\n",
        "  image = image.reshape(28, 28, 1)\n",
        "  plt.imshow(image[:,:,0].astype(\"uint8\"), cmap = 'gray')\n",
        "  plt.axis(\"off\")\n",
        "\n",
        "  resized_image = tf.image.resize(\n",
        "      tf.convert_to_tensor([image]), size=(image_size, image_size)\n",
        "  )\n",
        "\n",
        "  # Vanilla patch maker: This takes an image and divides into \n",
        "  # patches as in the original ViT paper\n",
        "  (token, patch) = ShiftedPatchTokenization(vanilla = True)(resized_image / 255.0)\n",
        "  (token, patch) = (token[0], patch[0])\n",
        "  print(f\"Image size: {image_size} X {image_size}\")\n",
        "  print(f\"Patch size: {patch_size} X {patch_size}\")\n",
        "  # print(f\"Patches per image: {patch.shape[1]}\")\n",
        "  # print(f\"Elements per patch: {patch.shape[-1]}\")\n",
        "  n = patch.shape[0]\n",
        "  count = 1\n",
        "  plt.figure(figsize=(4, 4))\n",
        "  for row in range(n):\n",
        "      for col in range(n):\n",
        "          plt.subplot(n, n, count)\n",
        "          count = count + 1\n",
        "          image = tf.reshape(patch[row][col], (patch_size, patch_size, 1))\n",
        "          plt.imshow(image.numpy()[:,:,0], cmap= 'gray')\n",
        "          plt.axis(\"off\")\n",
        "  plt.show()\n",
        "\n",
        "  # Shifted Patch Tokenization: This layer takes the image, shifts it\n",
        "  # diagonally and then extracts patches from the concatinated images\n",
        "  print(\"Shifting Patch Image\")\n",
        "  (token, patch) = ShiftedPatchTokenization(vanilla=False)(resized_image / 255.0)\n",
        "  (token, patch) = (token[0], patch[0])\n",
        "  n = patch.shape[0]\n",
        "  shifted_images = [\"ORIGINAL\", \"LEFT-UP\", \"LEFT-DOWN\", \"RIGHT-UP\", \"RIGHT-DOWN\"]\n",
        "  for index, name in enumerate(shifted_images):\n",
        "      print(name)\n",
        "      count = 1\n",
        "      plt.figure(figsize=(4, 4))\n",
        "      for row in range(n):\n",
        "          for col in range(n):\n",
        "              plt.subplot(n, n, count)\n",
        "              count = count + 1\n",
        "              image = tf.reshape(patch[row][col], (patch_size, patch_size, 5 * 1))\n",
        "              plt.imshow(image[..., index : index + 1].numpy()[:,:,0], cmap = 'gray')\n",
        "              plt.axis(\"off\")\n",
        "      plt.show()\n",
        "\n",
        "  # patch_img = tf.reshape(patch, (patch_size, patch_size, 1))\n",
        "  # plt.imshow(patch_img.numpy()[:,:,0].astype(\"uint8\"), cmap = 'gray')"
      ]
    },
    {
      "cell_type": "markdown",
      "metadata": {
        "id": "S1sCbbG_6FP3"
      },
      "source": [
        "#### Implement Locality Self Attention\n",
        "\n",
        "The regular attention equation is stated below.\n",
        "\n",
        "| ![Equation of attention](https://miro.medium.com/max/396/1*P9sV1xXM10t943bXy_G9yg.png) |\n",
        "| :--: |\n",
        "| [Source](https://towardsdatascience.com/attention-is-all-you-need-discovering-the-transformer-paper-73e5ff5e0634) |\n",
        "\n",
        "The attention module takes a query, key, and value. First, we compute the\n",
        "similarity between the query and key via a dot product. Then, the result\n",
        "is scaled by the square root of the key dimension. The scaling prevents\n",
        "the softmax function from having an overly small gradient. Softmax is then\n",
        "applied to the scaled dot product to produce the attention weights.\n",
        "The value is then modulated via the attention weights.\n",
        "\n",
        "In self-attention, query, key and value come from the same input.\n",
        "The dot product would result in large self-token relations rather than\n",
        "inter-token relations. This also means that the softmax gives higher\n",
        "probabilities to self-token relations than the inter-token relations.\n",
        "To combat this, the authors propose masking the diagonal of the dot product.\n",
        "This way, we force the attention module to pay more attention to the\n",
        "inter-token relations.\n",
        "\n",
        "The scaling factor is a constant in the regular attention module.\n",
        "This acts like a temperature term that can modulate the softmax function.\n",
        "The authors suggest a learnable temperature term instead of a constant.\n",
        "\n",
        "| ![Implementation of LSA](https://i.imgur.com/GTV99pk.png) |\n",
        "| :--: |\n",
        "| Locality Self Attention [Source](https://arxiv.org/abs/2112.13492v1) |\n",
        "\n",
        "The above two pointers make the Locality Self Attention. We have subclassed the\n",
        "[`layers.MultiHeadAttention`](https://www.tensorflow.org/api_docs/python/tf/keras/layers/MultiHeadAttention)\n",
        "and implemented the trainable temperature. The attention mask is built\n",
        "at a later stage."
      ]
    },
    {
      "cell_type": "code",
      "execution_count": null,
      "metadata": {
        "id": "b-RyDuO96FP4"
      },
      "outputs": [],
      "source": [
        "if model_name == \"ViT_SPT\":\n",
        "  class MultiHeadAttentionLSA(tf.keras.layers.MultiHeadAttention):\n",
        "      def __init__(self, **kwargs):\n",
        "          super().__init__(**kwargs)\n",
        "          # The trainable temperature term. The initial value is\n",
        "          # the square root of the key dimension.\n",
        "          self.tau = tf.Variable(math.sqrt(float(self._key_dim)), trainable=True)\n",
        "\n",
        "      def _compute_attention(self, query, key, value, attention_mask=None, training=None):\n",
        "          query = tf.multiply(query, 1.0 / self.tau)\n",
        "          attention_scores = tf.einsum(self._dot_product_equation, key, query)\n",
        "          attention_scores = self._masked_softmax(attention_scores, attention_mask)\n",
        "          attention_scores_dropout = self._dropout_layer(\n",
        "              attention_scores, training=training\n",
        "          )\n",
        "          attention_output = tf.einsum(\n",
        "              self._combine_equation, attention_scores_dropout, value\n",
        "          )\n",
        "          return attention_output, attention_scores\n"
      ]
    },
    {
      "cell_type": "code",
      "execution_count": null,
      "metadata": {
        "id": "-D4oXIo6B9m8"
      },
      "outputs": [],
      "source": [
        "if model_name == \"ViT_SPT\":\n",
        "  # Build the diagonal attention mask\n",
        "  diag_attn_mask = 1 - tf.eye(num_patches)\n",
        "  diag_attn_mask = tf.cast([diag_attn_mask], dtype=tf.int8)"
      ]
    },
    {
      "cell_type": "code",
      "execution_count": null,
      "metadata": {
        "id": "KERhTH7uEj8p"
      },
      "outputs": [],
      "source": [
        "if model_name == \"ViT_SPT\":\n",
        "  ### Implement the multilayer perceptron \n",
        "  def mlp(x, hidden_units, dropout_rate):\n",
        "    for units in hidden_units:\n",
        "        x = layers.Dense(units, activation=tf.nn.gelu)(x)\n",
        "        x = layers.Dropout(dropout_rate)(x)\n",
        "    return x"
      ]
    },
    {
      "cell_type": "code",
      "execution_count": null,
      "metadata": {
        "id": "afq-HyGW5eLp"
      },
      "outputs": [],
      "source": [
        "if model_name == \"ViT_SPT\":  \n",
        "    def create_vit_spt_classifier(vanilla = False):\n",
        "      inputs = layers.Input(shape=input_shape)\n",
        "      # Augment data.\n",
        "      augmented = vit_spt_data_augmentation(inputs)\n",
        "      # Create patches.\n",
        "      (tokens, _) = ShiftedPatchTokenization(vanilla=vanilla)(augmented)\n",
        "      # Encode patches.\n",
        "      encoded_patches = PatchEncoder()(tokens)\n",
        "\n",
        "      # Create multiple layers of the Transformer block.\n",
        "      for _ in range(transformer_layers):\n",
        "          # Layer normalization 1.\n",
        "          x1 = layers.LayerNormalization(epsilon=1e-6)(encoded_patches)\n",
        "          # Create a multi-head attention layer.\n",
        "          if not vanilla:\n",
        "            attention_output = layers.MultiHeadAttention(\n",
        "                num_heads=num_heads, key_dim=projection_dim, dropout=0.1\n",
        "            )(x1, x1, attention_mask = diag_attn_mask)\n",
        "          else:\n",
        "            attention_output = layers.MultiHeadAttention(\n",
        "                num_heads=num_heads, key_dim=projection_dim, dropout=0.1\n",
        "            )(x1, x1)\n",
        "          # Skip connection 1.\n",
        "          x2 = layers.Add()([attention_output, encoded_patches])\n",
        "          # Layer normalization 2.\n",
        "          x3 = layers.LayerNormalization(epsilon=1e-6)(x2)\n",
        "          # MLP.\n",
        "          x3 = mlp(x3, hidden_units=transformer_units, dropout_rate=0.1)\n",
        "          # Skip connection 2.\n",
        "          encoded_patches = layers.Add()([x3, x2])\n",
        "\n",
        "      # Create a [batch_size, projection_dim] tensor.\n",
        "      representation = layers.LayerNormalization(epsilon=1e-6)(encoded_patches)\n",
        "      representation = layers.Flatten()(representation)\n",
        "      representation = layers.Dropout(0.5)(representation)\n",
        "      # Add MLP.\n",
        "      features = mlp(representation, hidden_units=mlp_head_units, dropout_rate=0.5)\n",
        "      # Classify outputs.\n",
        "      logits = layers.Dense(num_classes)(features)\n",
        "      # Create the Keras model.\n",
        "      model = keras.Model(inputs=inputs, outputs=logits)\n",
        "      return model"
      ]
    },
    {
      "cell_type": "code",
      "execution_count": null,
      "metadata": {
        "id": "d1YbOBgjDmTg"
      },
      "outputs": [],
      "source": [
        "if model_name == \"ViT_SPT\":\n",
        "  # Some code is taken from: ???\n",
        "  # https://www.kaggle.com/ashusma/training-rfcx-tensorflow-tpu-effnet-b2.\n",
        "  class WarmUpCosine(keras.optimizers.schedules.LearningRateSchedule):\n",
        "      def __init__(\n",
        "          self, learning_rate_base, total_steps, warmup_learning_rate, warmup_steps\n",
        "      ):\n",
        "          super(WarmUpCosine, self).__init__()\n",
        "\n",
        "          self.learning_rate_base = learning_rate_base\n",
        "          self.total_steps = total_steps\n",
        "          self.warmup_learning_rate = warmup_learning_rate\n",
        "          self.warmup_steps = warmup_steps\n",
        "          self.pi = tf.constant(np.pi)\n",
        "\n",
        "      def __call__(self, step):\n",
        "          if self.total_steps < self.warmup_steps:\n",
        "              raise ValueError(\"Total_steps must be larger or equal to warmup_steps.\")\n",
        "\n",
        "          cos_annealed_lr = tf.cos(\n",
        "              self.pi\n",
        "              * (tf.cast(step, tf.float32) - self.warmup_steps)\n",
        "              / float(self.total_steps - self.warmup_steps)\n",
        "          )\n",
        "          learning_rate = 0.5 * self.learning_rate_base * (1 + cos_annealed_lr)\n",
        "\n",
        "          if self.warmup_steps > 0:\n",
        "              if self.learning_rate_base < self.warmup_learning_rate:\n",
        "                  raise ValueError(\n",
        "                      \"Learning_rate_base must be larger or equal to \"\n",
        "                      \"warmup_learning_rate.\"\n",
        "                  )\n",
        "              slope = (\n",
        "                  self.learning_rate_base - self.warmup_learning_rate\n",
        "              ) / self.warmup_steps\n",
        "              warmup_rate = slope * tf.cast(step, tf.float32) + self.warmup_learning_rate\n",
        "              learning_rate = tf.where(\n",
        "                  step < self.warmup_steps, warmup_rate, learning_rate\n",
        "              )\n",
        "          return tf.where(\n",
        "              step > self.total_steps, 0.0, learning_rate, name=\"learning_rate\"\n",
        "          )"
      ]
    },
    {
      "cell_type": "code",
      "execution_count": null,
      "metadata": {
        "id": "4L8OUso25a_C"
      },
      "outputs": [],
      "source": [
        "if model_name == \"ViT_SPT\":\n",
        "  def run_vit_spt_experiment(model):\n",
        "      total_steps = int((len(x_train_vl) / batch_size) * num_epochs)\n",
        "      warmup_epoch_percentage = 0.10\n",
        "      warmup_steps = int(total_steps * warmup_epoch_percentage)\n",
        "      scheduled_lrs = WarmUpCosine(\n",
        "          learning_rate_base=learning_rate,\n",
        "          total_steps=total_steps,\n",
        "          warmup_learning_rate=0.0,\n",
        "          warmup_steps=warmup_steps,\n",
        "      )\n",
        "      optimizer = tfa.optimizers.AdamW(\n",
        "          learning_rate=learning_rate, weight_decay=weight_decay\n",
        "      )\n",
        "\n",
        "      model.compile(\n",
        "          optimizer=optimizer,\n",
        "          loss=keras.losses.SparseCategoricalCrossentropy(from_logits=True), ### ???? change to CategoricalCrossentropy\n",
        "          metrics=[\n",
        "              keras.metrics.SparseCategoricalAccuracy(name=\"accuracy\"),\n",
        "              keras.metrics.SparseTopKCategoricalAccuracy(5, name=\"top-5-accuracy\"),\n",
        "          ],\n",
        "      )\n",
        "      # y_train_encoded = keras.utils.to_categorical(y_train_label_aug, num_classes)\n",
        "  # y_test = keras.utils.to_categorical(y_test, num_classes)\n",
        "      train_x, validation_x, train_y, validation_y = train_test_split(x_train_vl, \n",
        "                                                                      y_train_label_aug,\n",
        "                                                                      # y_train, \n",
        "                                                                      test_size = 0.1, random_state = SEED)\n",
        "      history = model.fit(\n",
        "          x= train_x,\n",
        "          y= train_y,\n",
        "          batch_size=batch_size,\n",
        "          epochs=num_epochs,\n",
        "          # validation_split = 0.1,\n",
        "          shuffle= True,\n",
        "          validation_data = (validation_x, validation_y),\n",
        "      )\n",
        "\n",
        "      _, accuracy, top_5_accuracy = model.evaluate(x_test_vl, y_test_label, batch_size = batch_size)\n",
        "      print(f\"Test accuracy: {round(accuracy * 100, 2)}%\")\n",
        "      print(f\"Test top 5 accuracy: {round(top_5_accuracy * 100, 2)}%\")\n",
        "\n",
        "      return model, history"
      ]
    },
    {
      "cell_type": "code",
      "execution_count": null,
      "metadata": {
        "id": "rIN35hrl4Uor"
      },
      "outputs": [],
      "source": [
        "if model_name == \"ViT_SPT\":\n",
        "  keras.backend.clear_session()\n",
        "\n",
        "  # Run experiments with the vanilla ViT\n",
        "  vit = create_vit_spt_classifier(vanilla=True)\n",
        "  model1, history = run_vit_spt_experiment(vit)\n",
        "\n",
        "  # Run experiments with the Shifted Patch Tokenization and\n",
        "  # Locality Self Attention modified ViT\n",
        "  vit_sl = create_vit_spt_classifier(vanilla=False)\n",
        "  model2, history = run_vit_spt_experiment(vit_sl)\n",
        "\n",
        "  # vit_classifier = create_vit_classifier()\n",
        "  # # vit_classifier.summary()\n",
        "  # model, history = run_vit_experiment(vit_classifier)"
      ]
    },
    {
      "cell_type": "markdown",
      "metadata": {
        "id": "835UhYuq4Uor"
      },
      "source": [
        "#### Compile, train, and evaluate the mode"
      ]
    },
    {
      "cell_type": "code",
      "execution_count": null,
      "metadata": {
        "id": "xic2uurP4Uor"
      },
      "outputs": [],
      "source": [
        ""
      ]
    },
    {
      "cell_type": "markdown",
      "metadata": {
        "id": "Dgb9P5Od4Uor"
      },
      "source": [
        "#### Build the ViT model\n",
        "\n",
        "The ViT model consists of multiple Transformer blocks,\n",
        "which use the `layers.MultiHeadAttention` layer as a self-attention mechanism\n",
        "applied to the sequence of patches. The Transformer blocks produce a\n",
        "`[batch_size, num_patches, projection_dim]` tensor, which is processed via an\n",
        "classifier head with softmax to produce the final class probabilities output.\n",
        "\n",
        "Unlike the technique described in the [paper](https://arxiv.org/abs/2010.11929),\n",
        "which prepends a learnable embedding to the sequence of encoded patches to serve\n",
        "as the image representation, all the outputs of the final Transformer block are\n",
        "reshaped with `layers.Flatten()` and used as the image\n",
        "representation input to the classifier head.\n",
        "Note that the `layers.GlobalAveragePooling1D` layer\n",
        "could also be used instead to aggregate the outputs of the Transformer block,\n",
        "especially when the number of patches and the projection dimensions are large."
      ]
    },
    {
      "cell_type": "markdown",
      "metadata": {
        "id": "jEi2X3uRw6e_"
      },
      "source": [
        "### About batch size"
      ]
    },
    {
      "cell_type": "code",
      "execution_count": null,
      "metadata": {
        "id": "SOUQaGKLwebN"
      },
      "outputs": [],
      "source": [
        "# Batch size\n",
        "\n",
        "\"\"\"\n",
        "Batch Gradient Descent. Batch Size = Size of Training Set\n",
        "Stochastic Gradient Descent. Batch Size = 1\n",
        "Mini-Batch Gradient Descent. 1 < Batch Size < Size of Training Set\n",
        "In the case of mini-batch gradient descent, popular batch sizes include 32, 64, and 128 samples. You may see these values used in models in the literature and in tutorials.\n",
        "https://machinelearningmastery.com/difference-between-a-batch-and-an-epoch/\n",
        "\n",
        "\"\"\""
      ]
    },
    {
      "cell_type": "markdown",
      "metadata": {
        "id": "39NI12nnXwTe"
      },
      "source": [
        "## Challenge Test"
      ]
    },
    {
      "cell_type": "markdown",
      "metadata": {
        "id": "iBeKsO4tZJ06"
      },
      "source": [
        "### Import challenge dataset"
      ]
    },
    {
      "cell_type": "code",
      "execution_count": null,
      "metadata": {
        "id": "ckySMhcfX1Rj"
      },
      "outputs": [],
      "source": [
        "# Import data \n",
        "croot_path = \"https://raw.githubusercontent.com/William-WANG2/CS5487-CityU/master/dataset/challenge/\" # path where we put data\n",
        "clabel_url = os.path.join(croot_path, \"cdigits_digits_labels.txt\")\n",
        "cdata_url = os.path.join(croot_path, \"cdigits_digits_vec.txt\")\n",
        "\n"
      ]
    },
    {
      "cell_type": "code",
      "execution_count": null,
      "metadata": {
        "id": "3dVKEtzSY1Ia"
      },
      "outputs": [],
      "source": [
        "clabel = pd.read_csv(clabel_url, sep = ' ', header = None)\n",
        "clabel.columns = ['label']\n",
        "cdata = pd.read_csv(cdata_url, sep = '\\t', header = None)\n"
      ]
    },
    {
      "cell_type": "code",
      "execution_count": null,
      "metadata": {
        "colab": {
          "base_uri": "https://localhost:8080/"
        },
        "id": "54xPCJYkZYJv",
        "outputId": "5694b915-a481-4fd8-eabb-acc9edba89dd"
      },
      "outputs": [
        {
          "output_type": "stream",
          "name": "stdout",
          "text": [
            "(150, 1)\n",
            "(150, 784)\n",
            "(2000, 784)\n",
            "(2000, 10)\n"
          ]
        }
      ],
      "source": [
        "print(clabel.shape)\n",
        "print(cdata.shape)\n",
        "print(x_test.shape)\n",
        "print(y_test.shape)"
      ]
    },
    {
      "cell_type": "code",
      "execution_count": null,
      "metadata": {
        "id": "of26_d_Rb8H6"
      },
      "outputs": [],
      "source": [
        "clabel_arr = clabel"
      ]
    },
    {
      "cell_type": "markdown",
      "metadata": {
        "id": "CfItY_q__Wpq"
      },
      "source": [
        "###Extract feature from the data "
      ]
    },
    {
      "cell_type": "code",
      "execution_count": null,
      "metadata": {
        "id": "2fEPvelI_Wpr"
      },
      "outputs": [],
      "source": [
        "extract_flag = False\n",
        "extract_feature = \"avg2\"\n",
        "if extract_flag and extract_feature == \"avg2\":\n",
        "  # We choose to average the 2*2 pixels' values and assign it to a new one.\n",
        "  cdata_ori = cdata.to_numpy()\n",
        "  cdata = np.zeros([150, 196])\n",
        "  for num in range(150):\n",
        "    idx = 0\n",
        "    for i in range(0, 28, 2):\n",
        "      for j in range(0, 28, 2):\n",
        "        cdata[num, idx] = (cdata_ori[num, i*28+j]+cdata_ori[num, i*28+j+1]+cdata_ori[num, (i+1)*28+j]+cdata_ori[num, (i+1)*28+j+1])/4\n",
        "        idx += 1"
      ]
    },
    {
      "cell_type": "markdown",
      "metadata": {
        "id": "I3rsTkP5ZMSd"
      },
      "source": [
        "### Testing"
      ]
    },
    {
      "cell_type": "code",
      "execution_count": null,
      "metadata": {
        "colab": {
          "base_uri": "https://localhost:8080/",
          "height": 1000
        },
        "id": "MT5hSoZVZIxu",
        "outputId": "9021cf66-bbc4-4e4a-8091-0bf96bca3459"
      },
      "outputs": [
        {
          "output_type": "stream",
          "name": "stdout",
          "text": [
            "======================================\n",
            "### Challenge Result: \n",
            "CNN\n",
            "1.0\n",
            "Model: M3\n",
            "5/5 [==============================] - 0s 7ms/step - loss: 0.1811 - accuracy: 0.9533\n",
            "Model: M5\n",
            "5/5 [==============================] - 0s 7ms/step - loss: 0.2523 - accuracy: 0.9400\n",
            "Model: M7\n",
            "5/5 [==============================] - 0s 7ms/step - loss: 0.2488 - accuracy: 0.9533\n",
            "Accuracy: 0.9600\n"
          ]
        },
        {
          "output_type": "display_data",
          "data": {
            "text/plain": [
              "<Figure size 432x288 with 2 Axes>"
            ],
            "image/png": "[encoded data removed]"
          },
          "metadata": {
            "needs_background": "light"
          }
        },
        {
          "output_type": "display_data",
          "data": {
            "text/plain": [
              "<Figure size 432x288 with 2 Axes>"
            ],
            "image/png": "[encoded data removed]"
          },
          "metadata": {
            "needs_background": "light"
          }
        },
        {
          "output_type": "display_data",
          "data": {
            "text/plain": [
              "<Figure size 864x1008 with 16 Axes>"
            ],
            "image/png": "[encoded data removed]"
          },
          "metadata": {
            "needs_background": "light"
          }
        }
      ],
      "source": [
        "print(\"======================================\")\n",
        "print(\"### Challenge Result: \")\n",
        "\n",
        "if  model_name == 'SVM':\n",
        "    #normalization\n",
        "    cdata = cdata/255\n",
        "    pred = lsvm_pca.predict(pca_digits.transform(cdata))\n",
        "    print(\"======================================\")\n",
        "    print(\"### Challenge Result SVM+PCA: \")\n",
        "    print(accuracy_score(pred, clabel_arr))\n",
        "    pred = ksvm_pca.predict(pca_digits.transform(cdata))\n",
        "    print(\"### Challenge Result kSVM+PCA: \")\n",
        "    print(accuracy_score(pred, clabel_arr))\n",
        "    pred = lsvm_kpca.predict(kpca_digits.transform(cdata))\n",
        "    print(\"### Challenge Result SVM+kPCA: \")\n",
        "    print(accuracy_score(pred, clabel_arr))\n",
        "    pred = ksvm_kpca.predict(kpca_digits.transform(cdata))\n",
        "    print(\"### Challenge Result kSVM+kPCA: \")\n",
        "    print(accuracy_score(pred, clabel_arr))\n",
        "    pred = lsvm_lda.predict(lda_digits.transform(cdata))\n",
        "    print(\"### Challenge Result SVM+LDA: \")\n",
        "    print(accuracy_score(pred, clabel_arr))\n",
        "    pred = ksvm_lda.predict(lda_digits.transform(cdata))\n",
        "    print(\"### Challenge Result kSVM+LDA: \")\n",
        "    print(accuracy_score(pred, clabel_arr))\n",
        "elif  model_name == 'MLP':\n",
        "    print(\"Simple Neural Network\")\n",
        "    x_challenge = cdata\n",
        "    y_challenge = keras.utils.to_categorical(clabel, num_classes)\n",
        "    model.evaluate(x_challenge, y_challenge)\n",
        "elif model_name == \"CNN\":\n",
        "    print(\"CNN\")\n",
        "    cdata_vl = cdata.values.astype(float)\n",
        "    if cdata_vl.max() == 1:\n",
        "        cdata_vl = cdata_vl * 255\n",
        "    if normalize:\n",
        "        cdata_vl = cdata_vl/255.0\n",
        "\n",
        "    x_challenge = tf.reshape(cdata_vl, (cdata_vl.shape[0], 28, 28, 1))\n",
        "    y_challenge = keras.utils.to_categorical(clabel, num_classes)\n",
        "\n",
        "    y_pred = voting_evaluate(True, x_test_ts, y_test, models, names)\n",
        "    disp = ConfusionMatrixDisplay.from_predictions(\n",
        "        y_challenge.argmax(axis = 1),\n",
        "        y_pred,\n",
        "        cmap = \"Blues\",\n",
        "    )\n",
        "    disp.plot()\n",
        "    # Plot mis-classified samples\n",
        "\n",
        "    fig, axis = plt.subplots(4, 4, figsize=(12, 14))\n",
        "    row = 0\n",
        "    col = 0\n",
        "    for j in range(x_challenge.shape[0]):\n",
        "        if y_pred[j] == y_challenge[j].argmax():\n",
        "            continue\n",
        "        image = x_challenge[j]\n",
        "        axis[row, col].imshow(image[:,:,0], cmap = 'gray')\n",
        "        axis[row, col].set(title = f\"Real Number is {y_challenge[j].argmax()}\\nPredict Number is {y_pred[j]}\");\n",
        "        col+=1\n",
        "        if col >= 4: \n",
        "            col = col % 4\n",
        "            row+=1\n",
        "elif model_name == 'ViT':\n",
        "    print(\"Vision Transformer\")\n",
        "    x_challenge =  tf.reshape(cdata, (cdata.shape[0], 28, 28, 1))\n",
        "    y_challenge = clabel\n",
        "    model.evaluate(x_challenge, y_challenge)\n",
        "elif model_name == \"ViT_SPT\":\n",
        "    print(\"Vision Transformer with SPT\")\n",
        "    x_challenge =  tf.reshape(cdata, (cdata.shape[0], 28, 28, 1))\n",
        "    y_challenge = clabel\n",
        "    print(\"With vanilla ViT\")\n",
        "    model1.evaluate(x_challenge, y_challenge)\n",
        "    print(\"With SPT & LSA ViT\")\n",
        "    model2.evaluate(x_challenge, y_challenge)\n",
        "elif model_name == 'Logit':\n",
        "    cdata = cdata/255\n",
        "    pred = logit.predict(cdata)\n",
        "    print(\"======================================\")\n",
        "    print(\"### Challenge Result Logistic Regression: \")\n",
        "    print(accuracy_score(pred, clabel_arr))\n",
        "    pred = logit_pca.predict(pca_digits.transform(cdata))\n",
        "    print(\"### Challenge Result Logistic Regression+PCA: \")\n",
        "    print(accuracy_score(pred, clabel_arr))\n",
        "    pred = logit_kpca.predict(kpca_digits.transform(cdata))\n",
        "    print(\"### Challenge Result Logistic Regression+kPCA: \")\n",
        "    print(accuracy_score(pred, clabel_arr))\n",
        "    pred = logit_lda.predict(lda_digits.transform(cdata))\n",
        "    print(\"### Challenge Result Logistic Regression+LDA: \")\n",
        "    print(accuracy_score(pred, clabel_arr))\n",
        "elif model_name == 'NaiveBayes':\n",
        "    cdata = cdata/255\n",
        "    pred = gaussianNB.predict(cdata)\n",
        "    print(\"======================================\")\n",
        "    print(\"### Challenge Result Naive Bayes: \")\n",
        "    print(accuracy_score(pred, clabel_arr))\n",
        "    pred = gaussianNB_pca.predict(pca_digits.transform(cdata))\n",
        "    print(\"### Challenge Result Naive Bayes+PCA: \")\n",
        "    print(accuracy_score(pred, clabel_arr))\n",
        "    pred = gaussianNB_kpca.predict(kpca_digits.transform(cdata))\n",
        "    print(\"### Challenge Result Naive Bayes+kPCA: \")\n",
        "    print(accuracy_score(pred, clabel_arr))\n",
        "    pred = gaussianNB_lda.predict(lda_digits.transform(cdata))\n",
        "    print(\"### Challenge Result Naive Bayes+LDA: \")\n",
        "    print(accuracy_score(pred, clabel_arr))"
      ]
    }
  ],
  "metadata": {
    "accelerator": "GPU",
    "colab": {
      "collapsed_sections": [
        "fRiGnvJ8guQO",
        "8l2fY_17njH0",
        "RBJqfPnQWhsU",
        "SFPkG5RqXyZl",
        "mvIk4Ua10E22"
      ],
      "name": "4.16 CS5487_Mnist",
      "toc_visible": true,
      "provenance": [],
      "machine_shape": "hm"
    },
    "kernelspec": {
      "display_name": "Python 3",
      "name": "python3"
    },
    "language_info": {
      "name": "python"
    }
  },
  "nbformat": 4,
  "nbformat_minor": 0
}